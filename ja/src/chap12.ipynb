{
  "nbformat": 4,
  "nbformat_minor": 0,
  "metadata": {
    "colab": {
      "name": "chap12.ipynb",
      "provenance": [],
      "collapsed_sections": []
    },
    "kernelspec": {
      "name": "python3",
      "display_name": "Python 3"
    },
    "language_info": {
      "name": "python"
    }
  },
  "cells": [
    {
      "cell_type": "markdown",
      "source": [
        "# 第12章 好き嫌い分類に基づく評価指標"
      ],
      "metadata": {
        "id": "PY6XkURfakYL"
      }
    },
    {
      "cell_type": "markdown",
      "source": [
        "## テストデータと推薦リスト"
      ],
      "metadata": {
        "id": "KlnM8e_Falmz"
      }
    },
    {
      "cell_type": "markdown",
      "source": [
        "## 準備"
      ],
      "metadata": {
        "id": "0by0CbRianH2"
      }
    },
    {
      "cell_type": "code",
      "execution_count": 1,
      "metadata": {
        "id": "AxQYHGPOaIZi"
      },
      "outputs": [],
      "source": [
        "import numpy as np\n",
        "\n",
        "# テストデータ\n",
        "R = np.array([\n",
        "              [5, 4,      3, np.nan, 5, 4,      2,      2,      np.nan, np.nan],\n",
        "])\n",
        "U = np.arange(R.shape[0])\n",
        "I = np.arange(R.shape[1])\n",
        "Iu = [I[~np.isnan(R)[u,:]] for u in U]\n",
        "\n",
        "# 推薦システムAによる推薦リスト\n",
        "RA = np.array([\n",
        "               [1, 6, 3, np.nan, 4, 2, 5, 7, np.nan, np.nan],\n",
        "])\n",
        "\n",
        "# 推薦システムBによる推薦リスト\n",
        "RB = np.array([\n",
        "               [4, 3, 1, np.nan, 6, 7, 2, 5, np.nan, np.nan],\n",
        "])"
      ]
    },
    {
      "cell_type": "markdown",
      "source": [
        "## 混同行列"
      ],
      "metadata": {
        "id": "qOPyKBqMa7Je"
      }
    },
    {
      "cell_type": "markdown",
      "source": [
        "### 01 好きなアイテムか否かの判定\n",
        "### 02 推薦されたアイテムか否かの判定\n",
        "### 03 好きなアイテムが推薦された数（TP）\n",
        "### 04 好きなアイテムが推薦されなかった数（FN）\n",
        "### 05 嫌いなアイテムが推薦された数（FP）\n",
        "### 06 嫌いなアイテムが推薦されなかった数（TN）"
      ],
      "metadata": {
        "id": "TDk369ArbBQS"
      }
    },
    {
      "cell_type": "code",
      "source": [
        "def confusion_matrix(u, RS, K):\n",
        "    \"\"\"\n",
        "    ユーザu向け推薦リストRSの上位K件における混同行列の各値を返す。\n",
        "\n",
        "    Parameters\n",
        "    ----------\n",
        "    u : int\n",
        "        ユーザuのID\n",
        "    RS : ndarray\n",
        "        推薦リストRS\n",
        "    K : int\n",
        "        上位K件\n",
        "\n",
        "    Returns\n",
        "    -------\n",
        "    int\n",
        "        TP\n",
        "    int\n",
        "        FN\n",
        "    int\n",
        "        FP\n",
        "    int\n",
        "        TN\n",
        "    \"\"\"\n",
        "    # 01\n",
        "    like = R[u,Iu[u]]>=4\n",
        "    print('like = {}'.format(like))\n",
        "    \n",
        "    # 02\n",
        "    recommended = RS[u,Iu[u]]<=K\n",
        "    print('recommended@{} = {}'.format(K, recommended))\n",
        "    \n",
        "    # 03\n",
        "    TP = np.count_nonzero(np.logical_and(like, recommended))\n",
        "    print('TP@{} = {}'.format(K, TP))\n",
        "    \n",
        "    # 04\n",
        "    FN = np.count_nonzero(np.logical_and(like, ~recommended))\n",
        "    print('FN@{} = {}'.format(K, FN))\n",
        "    \n",
        "    # 05\n",
        "    FP = np.count_nonzero(np.logical_and(~like, recommended))\n",
        "    print('FP@{} = {}'.format(K, FP))\n",
        "\n",
        "    # 06\n",
        "    TN = np.count_nonzero(np.logical_and(~like, ~recommended))\n",
        "    print('TN@{} = {}'.format(K, TN))\n",
        "\n",
        "    return TP, FN, FP, TN"
      ],
      "metadata": {
        "id": "pNmFIDi_a82i"
      },
      "execution_count": 2,
      "outputs": []
    },
    {
      "cell_type": "code",
      "source": [
        "u = 0\n",
        "K = 3\n",
        "TP, FN, FP, TN = confusion_matrix(u, RA, K)\n",
        "print('混同行列 = \\n{}'.format(np.array([[TP, FN], [FP, TN]])))"
      ],
      "metadata": {
        "colab": {
          "base_uri": "https://localhost:8080/"
        },
        "id": "ZreNwQ0ea_0r",
        "outputId": "5d428b71-6d2e-4a24-8afc-69c3a3513e28"
      },
      "execution_count": 3,
      "outputs": [
        {
          "output_type": "stream",
          "name": "stdout",
          "text": [
            "like = [ True  True False  True  True False False]\n",
            "recommended@3 = [ True False  True False  True False False]\n",
            "TP@3 = 2\n",
            "FN@3 = 2\n",
            "FP@3 = 1\n",
            "TN@3 = 2\n",
            "混同行列 = \n",
            "[[2 2]\n",
            " [1 2]]\n"
          ]
        }
      ]
    },
    {
      "cell_type": "markdown",
      "source": [
        "## 真陽性率と偽陽性率"
      ],
      "metadata": {
        "id": "zd9si8nNdmj5"
      }
    },
    {
      "cell_type": "markdown",
      "source": [
        "### 07 真陽性率（TPR）"
      ],
      "metadata": {
        "id": "mpHBT1k8dp7V"
      }
    },
    {
      "cell_type": "code",
      "source": [
        "TPR = TP / (TP + FN)\n",
        "print('TPR@{} = {:.3f}'.format(K, TPR))"
      ],
      "metadata": {
        "id": "1-VuXRsEduAl",
        "colab": {
          "base_uri": "https://localhost:8080/"
        },
        "outputId": "0eb6fe42-092a-47ec-a599-72d53e7e94a5"
      },
      "execution_count": 4,
      "outputs": [
        {
          "output_type": "stream",
          "name": "stdout",
          "text": [
            "TPR@3 = 0.500\n"
          ]
        }
      ]
    },
    {
      "cell_type": "markdown",
      "source": [
        "### 08 偽陽性率（FPR）\n",
        "\n"
      ],
      "metadata": {
        "id": "pEoe-xE4drXl"
      }
    },
    {
      "cell_type": "code",
      "source": [
        "FPR = FP / (FP + TN)\n",
        "print('FPR@{} = {:.3f}'.format(K, FPR))"
      ],
      "metadata": {
        "id": "8wqD54Uody2e",
        "colab": {
          "base_uri": "https://localhost:8080/"
        },
        "outputId": "b672e956-1944-428f-d3db-235e47803f86"
      },
      "execution_count": 5,
      "outputs": [
        {
          "output_type": "stream",
          "name": "stdout",
          "text": [
            "FPR@3 = 0.333\n"
          ]
        }
      ]
    },
    {
      "cell_type": "markdown",
      "source": [
        "## 適合率と再現率"
      ],
      "metadata": {
        "id": "MQPmTeQjd6cg"
      }
    },
    {
      "cell_type": "markdown",
      "source": [
        "### 09 適合率"
      ],
      "metadata": {
        "id": "UytQsxEueDuY"
      }
    },
    {
      "cell_type": "code",
      "source": [
        "precision = TP / (TP + FP)\n",
        "print('precision@{} = {:.3f}'.format(K, precision))"
      ],
      "metadata": {
        "id": "xEoh63mCd7r2",
        "colab": {
          "base_uri": "https://localhost:8080/"
        },
        "outputId": "12b08699-deed-498e-9b12-efd035cd4109"
      },
      "execution_count": 6,
      "outputs": [
        {
          "output_type": "stream",
          "name": "stdout",
          "text": [
            "precision@3 = 0.667\n"
          ]
        }
      ]
    },
    {
      "cell_type": "markdown",
      "source": [
        "### 10 再現率"
      ],
      "metadata": {
        "id": "9cF6UzS7eJmg"
      }
    },
    {
      "cell_type": "code",
      "source": [
        "recall = TP / (TP + FN)\n",
        "print('recall@{} = {:.3f}'.format(K, recall))"
      ],
      "metadata": {
        "id": "Tbkr5t_DeRF7",
        "colab": {
          "base_uri": "https://localhost:8080/"
        },
        "outputId": "90b21bf4-c4a4-4a9a-e455-f5cb84f17c9c"
      },
      "execution_count": 7,
      "outputs": [
        {
          "output_type": "stream",
          "name": "stdout",
          "text": [
            "recall@3 = 0.500\n"
          ]
        }
      ]
    },
    {
      "cell_type": "markdown",
      "source": [
        "### 11 F値"
      ],
      "metadata": {
        "id": "84jVTHVLeLDy"
      }
    },
    {
      "cell_type": "code",
      "source": [
        "F1 = (2 * precision * recall) / (precision + recall)\n",
        "print('F1@{} = {:.3f}'.format(K, F1))"
      ],
      "metadata": {
        "colab": {
          "base_uri": "https://localhost:8080/"
        },
        "id": "nxOUoQEleUej",
        "outputId": "5c014981-e450-4362-dad1-2a434476b7e3"
      },
      "execution_count": 8,
      "outputs": [
        {
          "output_type": "stream",
          "name": "stdout",
          "text": [
            "F1@3 = 0.571\n"
          ]
        }
      ]
    }
  ]
}