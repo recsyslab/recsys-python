{
  "nbformat": 4,
  "nbformat_minor": 0,
  "metadata": {
    "colab": {
      "name": "chap11.ipynb",
      "provenance": []
    },
    "kernelspec": {
      "name": "python3",
      "display_name": "Python 3"
    },
    "language_info": {
      "name": "python"
    }
  },
  "cells": [
    {
      "cell_type": "markdown",
      "source": [
        "# 第11章 嗜好予測の正確性"
      ],
      "metadata": {
        "id": "8DON_QEvW7lI"
      }
    },
    {
      "cell_type": "markdown",
      "source": [
        "## テストデータと予測評価値"
      ],
      "metadata": {
        "id": "Yo9czgALW8_O"
      }
    },
    {
      "cell_type": "markdown",
      "source": [
        "## 準備"
      ],
      "metadata": {
        "id": "o-a0_lUDXJeh"
      }
    },
    {
      "cell_type": "code",
      "execution_count": 1,
      "metadata": {
        "id": "SxKYQ13pW3vF"
      },
      "outputs": [],
      "source": [
        "import numpy as np\n",
        "\n",
        "# とりうる評価値の最大値\n",
        "R_MAX = 5\n",
        "# とりうる評価値の最小値\n",
        "R_MIN = 1\n",
        "\n",
        "# テストデータ\n",
        "R = np.array([\n",
        "              [np.nan, 4,      np.nan, np.nan, np.nan, np.nan, 2,      np.nan, np.nan, np.nan],\n",
        "              [np.nan, np.nan, np.nan, np.nan, 2,      np.nan, np.nan, np.nan, 5,      np.nan],\n",
        "              [np.nan, np.nan, np.nan, np.nan, np.nan, np.nan, np.nan, 3,      np.nan, np.nan],\n",
        "])\n",
        "U = np.arange(R.shape[0])\n",
        "I = np.arange(R.shape[1])\n",
        "\n",
        "# 推薦システムAによる予測評価値\n",
        "RA = np.array([\n",
        "               [np.nan, 2,      np.nan, np.nan, np.nan, np.nan, 2,      np.nan, np.nan, np.nan],\n",
        "               [np.nan, np.nan, np.nan, np.nan, 2,      np.nan, np.nan, np.nan, 3,      np.nan],\n",
        "               [np.nan, np.nan, np.nan, np.nan, np.nan, np.nan, np.nan, 3,      np.nan, np.nan],\n",
        "])\n",
        "\n",
        "# 推薦システムBによる予測評価値\n",
        "RB = np.array([\n",
        "               [np.nan, 3,      np.nan, np.nan, np.nan, np.nan, 1,      np.nan, np.nan, np.nan],\n",
        "               [np.nan, np.nan, np.nan, np.nan, 3,      np.nan, np.nan, np.nan, 4,      np.nan],\n",
        "               [np.nan, np.nan, np.nan, np.nan, np.nan, np.nan, np.nan, 4,      np.nan, np.nan],\n",
        "])"
      ]
    },
    {
      "cell_type": "markdown",
      "source": [
        "## 平均絶対誤差"
      ],
      "metadata": {
        "id": "6feMHCDyXRS4"
      }
    },
    {
      "cell_type": "markdown",
      "source": [
        "### 01 推薦システムAのMAE"
      ],
      "metadata": {
        "id": "0DD19dovXqqn"
      }
    },
    {
      "cell_type": "code",
      "source": [
        "MAE_A = np.nansum([[np.abs(RA[u,i] - R[u,i]) for i in I] for u in U]) / np.count_nonzero(~np.isnan(R))\n",
        "print('MAE_{} = {:.3f}'.format('A', MAE_A))"
      ],
      "metadata": {
        "colab": {
          "base_uri": "https://localhost:8080/"
        },
        "id": "ezJRUnwUXVj1",
        "outputId": "415710ea-b6e7-481a-b84d-6ed09db43cab"
      },
      "execution_count": 2,
      "outputs": [
        {
          "output_type": "stream",
          "name": "stdout",
          "text": [
            "MAE_A = 0.800\n"
          ]
        }
      ]
    },
    {
      "cell_type": "markdown",
      "source": [
        "### 02 推薦システムBのMAE"
      ],
      "metadata": {
        "id": "NUbwMOSSXsyo"
      }
    },
    {
      "cell_type": "code",
      "source": [
        "MAE_B = np.nansum([[np.abs(RB[u,i] - R[u,i]) for i in I] for u in U]) / np.count_nonzero(~np.isnan(R))\n",
        "print('MAE_{} = {:.3f}'.format('B', MAE_B))"
      ],
      "metadata": {
        "colab": {
          "base_uri": "https://localhost:8080/"
        },
        "id": "-A4N7YdgXxOL",
        "outputId": "00f521ad-a441-43db-e130-eb5567ec7d50"
      },
      "execution_count": 3,
      "outputs": [
        {
          "output_type": "stream",
          "name": "stdout",
          "text": [
            "MAE_B = 1.000\n"
          ]
        }
      ]
    },
    {
      "cell_type": "markdown",
      "source": [
        "## 平均二乗誤差"
      ],
      "metadata": {
        "id": "r46czGrZX0Ep"
      }
    },
    {
      "cell_type": "markdown",
      "source": [
        "### 03 推薦システムAのMSE"
      ],
      "metadata": {
        "id": "AX6-ASukX4m6"
      }
    },
    {
      "cell_type": "code",
      "source": [
        "MSE_A = np.nansum([[(RA[u,i] - R[u,i])**2 for i in I] for u in U]) / np.count_nonzero(~np.isnan(R))\n",
        "print('MSE_{} = {:.3f}'.format('A', MSE_A))"
      ],
      "metadata": {
        "colab": {
          "base_uri": "https://localhost:8080/"
        },
        "id": "Py9gpFdQX74N",
        "outputId": "33035f04-4c1a-499a-9621-249f1f68b035"
      },
      "execution_count": 4,
      "outputs": [
        {
          "output_type": "stream",
          "name": "stdout",
          "text": [
            "MSE_A = 1.600\n"
          ]
        }
      ]
    },
    {
      "cell_type": "markdown",
      "source": [
        "### 04 推薦システムBのMSE"
      ],
      "metadata": {
        "id": "vEOHzxcGX-BY"
      }
    },
    {
      "cell_type": "code",
      "source": [
        "MSE_B = np.nansum([[(RB[u,i] - R[u,i])**2 for i in I] for u in U]) / np.count_nonzero(~np.isnan(R))\n",
        "print('MSE_{} = {:.3f}'.format('B', MSE_B))"
      ],
      "metadata": {
        "colab": {
          "base_uri": "https://localhost:8080/"
        },
        "id": "4yb2oQemX9Wq",
        "outputId": "6fa56eea-23d6-408b-b414-aa2ebba0df7d"
      },
      "execution_count": 5,
      "outputs": [
        {
          "output_type": "stream",
          "name": "stdout",
          "text": [
            "MSE_B = 1.000\n"
          ]
        }
      ]
    },
    {
      "cell_type": "markdown",
      "source": [
        "## 二乗平均平方根誤差"
      ],
      "metadata": {
        "id": "kVUDFE55YTHK"
      }
    },
    {
      "cell_type": "markdown",
      "source": [
        "### 05 推薦システムAのRMSE"
      ],
      "metadata": {
        "id": "wCkxswaKYUHW"
      }
    },
    {
      "cell_type": "code",
      "source": [
        "RMSE_A = np.sqrt(MSE_A)\n",
        "print('RMSE_{} = {:.3f}'.format('A', RMSE_A))"
      ],
      "metadata": {
        "colab": {
          "base_uri": "https://localhost:8080/"
        },
        "id": "coMSbtPmYX9H",
        "outputId": "2d8fdb1d-6620-4a9d-95e9-965f5e99010e"
      },
      "execution_count": 6,
      "outputs": [
        {
          "output_type": "stream",
          "name": "stdout",
          "text": [
            "RMSE_A = 1.265\n"
          ]
        }
      ]
    },
    {
      "cell_type": "code",
      "source": [
        "RMSE_A = np.sqrt(np.nansum([[(RA[u,i] - R[u,i])**2 for i in I] for u in U]) / np.count_nonzero(~np.isnan(R)))\n",
        "print('RMSE_{} = {:.3f}'.format('A', RMSE_A))"
      ],
      "metadata": {
        "colab": {
          "base_uri": "https://localhost:8080/"
        },
        "id": "tm8w0p5lYeHz",
        "outputId": "874b5836-db18-41e4-c401-72ab0c49bad5"
      },
      "execution_count": 7,
      "outputs": [
        {
          "output_type": "stream",
          "name": "stdout",
          "text": [
            "RMSE_A = 1.265\n"
          ]
        }
      ]
    },
    {
      "cell_type": "markdown",
      "source": [
        "### 06 推薦システムBのRMSE"
      ],
      "metadata": {
        "id": "Dody1aemYVnS"
      }
    },
    {
      "cell_type": "code",
      "source": [
        "RMSE_B = np.sqrt(MSE_B)\n",
        "print('RMSE_{} = {:.3f}'.format('B', RMSE_B))"
      ],
      "metadata": {
        "colab": {
          "base_uri": "https://localhost:8080/"
        },
        "id": "ClPC_xtoYkmm",
        "outputId": "8eff6cac-2529-4cfc-fb1e-87857c59e86b"
      },
      "execution_count": 8,
      "outputs": [
        {
          "output_type": "stream",
          "name": "stdout",
          "text": [
            "RMSE_B = 1.000\n"
          ]
        }
      ]
    },
    {
      "cell_type": "code",
      "source": [
        "RMSE_B = np.sqrt(np.nansum([[(RB[u,i] - R[u,i])**2 for i in I] for u in U]) / np.count_nonzero(~np.isnan(R)))\n",
        "print('RMSE_{} = {:.3f}'.format('B', RMSE_B))"
      ],
      "metadata": {
        "colab": {
          "base_uri": "https://localhost:8080/"
        },
        "id": "pY1rJppNYm2D",
        "outputId": "64a5a146-fe90-4eaf-c0fc-bbe14ded7312"
      },
      "execution_count": 9,
      "outputs": [
        {
          "output_type": "stream",
          "name": "stdout",
          "text": [
            "RMSE_B = 1.000\n"
          ]
        }
      ]
    },
    {
      "cell_type": "markdown",
      "source": [
        "## 正規化MAEと正規化RMSE"
      ],
      "metadata": {
        "id": "g4MMC1jYY13L"
      }
    },
    {
      "cell_type": "markdown",
      "source": [
        "### 07 推薦システムAのNMAE"
      ],
      "metadata": {
        "id": "zFEDIyG9Y4FW"
      }
    },
    {
      "cell_type": "code",
      "source": [
        "NMAE_A = MAE_A / (R_MAX - R_MIN)\n",
        "print('NMAE_{} = {:.3f}'.format('A', NMAE_A))"
      ],
      "metadata": {
        "colab": {
          "base_uri": "https://localhost:8080/"
        },
        "id": "HWP2fizaY_FM",
        "outputId": "ecddf41c-02a2-482b-c959-f3f3f77ded64"
      },
      "execution_count": 10,
      "outputs": [
        {
          "output_type": "stream",
          "name": "stdout",
          "text": [
            "NMAE_A = 0.200\n"
          ]
        }
      ]
    },
    {
      "cell_type": "markdown",
      "source": [
        "### 08 推薦システムBのNMAE"
      ],
      "metadata": {
        "id": "0KttpELBY6al"
      }
    },
    {
      "cell_type": "code",
      "source": [
        "NMAE_B = MAE_B / (R_MAX - R_MIN)\n",
        "print('NMAE_{} = {:.3f}'.format('B', NMAE_B))"
      ],
      "metadata": {
        "colab": {
          "base_uri": "https://localhost:8080/"
        },
        "id": "E4xxC8h5ZCtD",
        "outputId": "cbd21581-2cd3-47ce-e23b-b41d1d69b5ff"
      },
      "execution_count": 11,
      "outputs": [
        {
          "output_type": "stream",
          "name": "stdout",
          "text": [
            "NMAE_B = 0.250\n"
          ]
        }
      ]
    },
    {
      "cell_type": "markdown",
      "source": [
        "### 09 推薦システムAのNRMSE"
      ],
      "metadata": {
        "id": "1bbSAjbFY7VZ"
      }
    },
    {
      "cell_type": "code",
      "source": [
        "NRMSE_A = RMSE_A / (R_MAX - R_MIN)\n",
        "print('NRMSE_{} = {:.3f}'.format('A', NRMSE_A))"
      ],
      "metadata": {
        "colab": {
          "base_uri": "https://localhost:8080/"
        },
        "id": "_fXibkEsZE--",
        "outputId": "9165946f-679a-449f-a47d-ffce8fdb0c57"
      },
      "execution_count": 12,
      "outputs": [
        {
          "output_type": "stream",
          "name": "stdout",
          "text": [
            "NRMSE_A = 0.316\n"
          ]
        }
      ]
    },
    {
      "cell_type": "markdown",
      "source": [
        "### 10 推薦システムBのNRMSE"
      ],
      "metadata": {
        "id": "iWxHW1s1Y9Lw"
      }
    },
    {
      "cell_type": "code",
      "source": [
        "NRMSE_B = RMSE_B / (R_MAX - R_MIN)\n",
        "print('NRMSE_{} = {:.3f}'.format('B', NRMSE_B))"
      ],
      "metadata": {
        "colab": {
          "base_uri": "https://localhost:8080/"
        },
        "id": "HlZzzo_vZGSv",
        "outputId": "b1d55efa-a2f9-4eab-9d07-525d1ca7d9ce"
      },
      "execution_count": 13,
      "outputs": [
        {
          "output_type": "stream",
          "name": "stdout",
          "text": [
            "NRMSE_B = 0.250\n"
          ]
        }
      ]
    }
  ]
}