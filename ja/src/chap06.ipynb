{
  "nbformat": 4,
  "nbformat_minor": 0,
  "metadata": {
    "colab": {
      "name": "chap06.ipynb",
      "provenance": []
    },
    "kernelspec": {
      "name": "python3",
      "display_name": "Python 3"
    },
    "language_info": {
      "name": "python"
    }
  },
  "cells": [
    {
      "cell_type": "markdown",
      "source": [
        "# 第6章 アイテムベース協調フィルタリング"
      ],
      "metadata": {
        "id": "ltnItb_wBYCx"
      }
    },
    {
      "cell_type": "markdown",
      "source": [
        "## 準備"
      ],
      "metadata": {
        "id": "t75jBwBgBkXB"
      }
    },
    {
      "cell_type": "code",
      "execution_count": 1,
      "metadata": {
        "id": "_ESpG9dOBTEz"
      },
      "outputs": [],
      "source": [
        "import pprint\n",
        "import numpy as np\n",
        "np.set_printoptions(precision=3)\n",
        "\n",
        "# 近傍アイテム数\n",
        "K_ITEMS = 3\n",
        "# 閾値\n",
        "THETA = 0\n",
        "\n",
        "R = np.array([\n",
        "              [np.nan, 4,      3,      1,      2,      np.nan],\n",
        "              [5,      5,      4,      np.nan, 3,      3     ],\n",
        "              [4,      np.nan, 5,      3,      2,      np.nan],\n",
        "              [np.nan, 3,      np.nan, 2,      1,      1     ],\n",
        "              [2,      1,      2,      4,      np.nan, 3     ],\n",
        "])\n",
        "U = np.arange(R.shape[0])\n",
        "I = np.arange(R.shape[1])\n",
        "Ui = [U[~np.isnan(R)[:,i]] for i in I]\n",
        "Iu = [I[~np.isnan(R)[u,:]] for u in U]\n",
        "ru_mean = np.nanmean(R, axis=1)\n",
        "R2 = R - ru_mean.reshape((ru_mean.size, 1))"
      ]
    },
    {
      "cell_type": "markdown",
      "source": [
        "## コサイン類似度"
      ],
      "metadata": {
        "id": "iygCfFT7BqNV"
      }
    },
    {
      "cell_type": "markdown",
      "source": [
        "### 01 アイテムiとアイテムjのコサイン類似度"
      ],
      "metadata": {
        "id": "ggUXSoNeBu_M"
      }
    },
    {
      "cell_type": "code",
      "source": [
        "def cos(i, j):\n",
        "    \"\"\"\n",
        "    評価値行列Rにおけるアイテムiとアイテムjのコサイン類似度を返す。\n",
        "\n",
        "    Parameters\n",
        "    ----------\n",
        "    i : int\n",
        "        アイテムiのID\n",
        "    j : int\n",
        "        アイテムjのID\n",
        "\n",
        "    Returns\n",
        "    -------\n",
        "    float\n",
        "        コサイン類似度\n",
        "    \"\"\"\n",
        "    Uij = np.intersect1d(Ui[i], Ui[j])\n",
        "    \n",
        "    # 01\n",
        "    num = np.sum([R[u,i] * R[u,j] for u in Uij])\n",
        "    den_i = np.sqrt(np.sum([R[u,i]**2 for u in Uij]))\n",
        "    den_j = np.sqrt(np.sum([R[u,j]**2 for u in Uij]))\n",
        "    cosine = num / (den_i * den_j)\n",
        "    return cosine"
      ],
      "metadata": {
        "id": "pEnZr841Bv7c"
      },
      "execution_count": 2,
      "outputs": []
    },
    {
      "cell_type": "code",
      "source": [
        "i = 0\n",
        "j = 4\n",
        "cosine = cos(i, j)\n",
        "print('cos({}, {}) = {:.3f}'.format(i, j, cosine))"
      ],
      "metadata": {
        "colab": {
          "base_uri": "https://localhost:8080/"
        },
        "id": "jhsm6hpYB4WE",
        "outputId": "2f0adf19-bda7-451c-ddbd-90cb18c05f82"
      },
      "execution_count": 3,
      "outputs": [
        {
          "output_type": "stream",
          "name": "stdout",
          "text": [
            "cos(0, 4) = 0.996\n"
          ]
        }
      ]
    },
    {
      "cell_type": "markdown",
      "source": [
        "## 調整コサイン類似度"
      ],
      "metadata": {
        "id": "X4jv4a7JCJk5"
      }
    },
    {
      "cell_type": "markdown",
      "source": [
        "### 02 アイテムiとアイテムjの調整コサイン類似度"
      ],
      "metadata": {
        "id": "GQv1i2_dCMnW"
      }
    },
    {
      "cell_type": "code",
      "source": [
        "def adjusted_cos(i, j):\n",
        "    \"\"\"\n",
        "    評価値行列R2におけるアイテムiとアイテムjの調整コサイン類似度を返す。\n",
        "\n",
        "    Parameters\n",
        "    ----------\n",
        "    i : int\n",
        "        アイテムiのID\n",
        "    j : int\n",
        "        アイテムjのID\n",
        "\n",
        "    Returns\n",
        "    -------\n",
        "    cosine : float\n",
        "        調整コサイン類似度\n",
        "    \"\"\"\n",
        "    Uij = np.intersect1d(Ui[i], Ui[j])\n",
        "    \n",
        "    # 02\n",
        "    num = np.sum([R2[u,i] * R2[u,j] for u in Uij])\n",
        "    den_i = np.sqrt(np.sum([R2[u,i]**2 for u in Uij]))\n",
        "    den_j = np.sqrt(np.sum([R2[u,j]**2 for u in Uij]))\n",
        "    cosine = num / (den_i * den_j)\n",
        "    return cosine"
      ],
      "metadata": {
        "id": "zdSmzQVeCNZv"
      },
      "execution_count": 4,
      "outputs": []
    },
    {
      "cell_type": "code",
      "source": [
        "i = 0\n",
        "j = 4\n",
        "cosine = adjusted_cos(i, j)\n",
        "print('cos({}, {})\\' = {:.3f}'.format(i, j, cosine))"
      ],
      "metadata": {
        "colab": {
          "base_uri": "https://localhost:8080/"
        },
        "id": "gKWXK-VRCb8b",
        "outputId": "2cbfab44-8d5b-428b-ed11-beba02d83b26"
      },
      "execution_count": 5,
      "outputs": [
        {
          "output_type": "stream",
          "name": "stdout",
          "text": [
            "cos(0, 4)' = -0.868\n"
          ]
        }
      ]
    },
    {
      "cell_type": "markdown",
      "source": [
        "## アイテム-アイテム類似度行列"
      ],
      "metadata": {
        "id": "nbSKkRTXCgfa"
      }
    },
    {
      "cell_type": "code",
      "source": [
        "def sim(i, j):\n",
        "    \"\"\"\n",
        "    アイテム類似度関数：アイテムiとアイテムjのアイテム類似度を返す。\n",
        "\n",
        "    Parameters\n",
        "    ----------\n",
        "    i : int\n",
        "        アイテムiのID\n",
        "    j : int\n",
        "        アイテムjのID\n",
        "\n",
        "    Returns\n",
        "    -------\n",
        "    float\n",
        "        アイテム類似度\n",
        "    \"\"\"\n",
        "    return adjusted_cos(i, j)"
      ],
      "metadata": {
        "id": "WNRuQ-tDCjWU"
      },
      "execution_count": 6,
      "outputs": []
    },
    {
      "cell_type": "markdown",
      "source": [
        "### 03 アイテム-アイテム類似度行列"
      ],
      "metadata": {
        "id": "ffIFP_E2CmQ3"
      }
    },
    {
      "cell_type": "code",
      "source": [
        "S = np.zeros((I.size, I.size))\n",
        "for i in I:\n",
        "    for j in I:\n",
        "        S[i,j] = sim(i, j)\n",
        "print('S = \\n{}'.format(S))"
      ],
      "metadata": {
        "colab": {
          "base_uri": "https://localhost:8080/"
        },
        "id": "Ql9jkLlHCo8B",
        "outputId": "fa73b787-01ed-4f4b-c3e3-93074ba2dab8"
      },
      "execution_count": 7,
      "outputs": [
        {
          "output_type": "stream",
          "name": "stdout",
          "text": [
            "S = \n",
            "[[ 1.     0.842  0.494 -0.829 -0.868 -0.987]\n",
            " [ 0.842  1.     0.896 -0.788 -0.91  -0.942]\n",
            " [ 0.494  0.896  1.    -0.583 -0.845 -0.514]\n",
            " [-0.829 -0.788 -0.583  1.     0.469  0.497]\n",
            " [-0.868 -0.91  -0.845  0.469  1.     1.   ]\n",
            " [-0.987 -0.942 -0.514  0.497  1.     1.   ]]\n"
          ]
        }
      ]
    },
    {
      "cell_type": "code",
      "source": [
        "S = np.array([[sim(i, j) for j in I] for i in I])\n",
        "print('S = \\n{}'.format(S))"
      ],
      "metadata": {
        "colab": {
          "base_uri": "https://localhost:8080/"
        },
        "id": "lphqyOy1C3z3",
        "outputId": "655ac605-eb2b-4b8b-f5bb-0052a9fb358f"
      },
      "execution_count": 8,
      "outputs": [
        {
          "output_type": "stream",
          "name": "stdout",
          "text": [
            "S = \n",
            "[[ 1.     0.842  0.494 -0.829 -0.868 -0.987]\n",
            " [ 0.842  1.     0.896 -0.788 -0.91  -0.942]\n",
            " [ 0.494  0.896  1.    -0.583 -0.845 -0.514]\n",
            " [-0.829 -0.788 -0.583  1.     0.469  0.497]\n",
            " [-0.868 -0.91  -0.845  0.469  1.     1.   ]\n",
            " [-0.987 -0.942 -0.514  0.497  1.     1.   ]]\n"
          ]
        }
      ]
    },
    {
      "cell_type": "markdown",
      "source": [
        "## 類似アイテムの選定"
      ],
      "metadata": {
        "id": "L0P4G3nuDBQD"
      }
    },
    {
      "cell_type": "markdown",
      "source": [
        "### 04 類似度上位k件のアイテム集合\n",
        "### 05 類似度がしきい値以上のアイテム集合"
      ],
      "metadata": {
        "id": "tHYDLjVzDF-y"
      }
    },
    {
      "cell_type": "code",
      "source": [
        "# アイテム-アイテム類似度行列から対象アイテムを除外した辞書\n",
        "Ii = {i: {j: S[i,j] for j in I if i != j} for i in I}\n",
        "print('Ii = ')\n",
        "pprint.pprint(Ii)\n",
        "# 04\n",
        "Ii = {i: dict(sorted(Ii[i].items(), key=lambda x:x[1], reverse=True)[:K_ITEMS]) for i in I}\n",
        "print('Ii = ')\n",
        "pprint.pprint(Ii)\n",
        "# 05\n",
        "Ii = {i: {j:s for j,s in Ii[i].items() if s >= THETA} for i in I}\n",
        "print('Ii = ')\n",
        "pprint.pprint(Ii)\n",
        "# 各アイテムの類似アイテム集合をまとめた辞書\n",
        "Ii = {i: np.array(list(Ii[i].keys())) for i in I}\n",
        "print('Ii = ')\n",
        "pprint.pprint(Ii)"
      ],
      "metadata": {
        "colab": {
          "base_uri": "https://localhost:8080/"
        },
        "id": "9pwupZIHDI7m",
        "outputId": "3ac838df-31a9-4f8a-831b-cf03b95d9ecb"
      },
      "execution_count": 9,
      "outputs": [
        {
          "output_type": "stream",
          "name": "stdout",
          "text": [
            "Ii = \n",
            "{0: {1: 0.8418791389638738,\n",
            "     2: 0.49365474375598073,\n",
            "     3: -0.8291725540450335,\n",
            "     4: -0.8682431421244593,\n",
            "     5: -0.987241120712647},\n",
            " 1: {0: 0.8418791389638738,\n",
            "     2: 0.896314672184623,\n",
            "     3: -0.7876958617794716,\n",
            "     4: -0.9099637547345425,\n",
            "     5: -0.9419581446623225},\n",
            " 2: {0: 0.49365474375598073,\n",
            "     1: 0.896314672184623,\n",
            "     3: -0.5833076828172804,\n",
            "     4: -0.8451542547285166,\n",
            "     5: -0.5144957554275266},\n",
            " 3: {0: -0.8291725540450335,\n",
            "     1: -0.7876958617794716,\n",
            "     2: -0.5833076828172804,\n",
            "     4: 0.4685212856658182,\n",
            "     5: 0.49665813370370504},\n",
            " 4: {0: -0.8682431421244593,\n",
            "     1: -0.9099637547345425,\n",
            "     2: -0.8451542547285166,\n",
            "     3: 0.4685212856658182,\n",
            "     5: 1.0},\n",
            " 5: {0: -0.987241120712647,\n",
            "     1: -0.9419581446623225,\n",
            "     2: -0.5144957554275266,\n",
            "     3: 0.49665813370370504,\n",
            "     4: 1.0}}\n",
            "Ii = \n",
            "{0: {1: 0.8418791389638738, 2: 0.49365474375598073, 3: -0.8291725540450335},\n",
            " 1: {0: 0.8418791389638738, 2: 0.896314672184623, 3: -0.7876958617794716},\n",
            " 2: {0: 0.49365474375598073, 1: 0.896314672184623, 5: -0.5144957554275266},\n",
            " 3: {2: -0.5833076828172804, 4: 0.4685212856658182, 5: 0.49665813370370504},\n",
            " 4: {2: -0.8451542547285166, 3: 0.4685212856658182, 5: 1.0},\n",
            " 5: {2: -0.5144957554275266, 3: 0.49665813370370504, 4: 1.0}}\n",
            "Ii = \n",
            "{0: {1: 0.8418791389638738, 2: 0.49365474375598073},\n",
            " 1: {0: 0.8418791389638738, 2: 0.896314672184623},\n",
            " 2: {0: 0.49365474375598073, 1: 0.896314672184623},\n",
            " 3: {4: 0.4685212856658182, 5: 0.49665813370370504},\n",
            " 4: {3: 0.4685212856658182, 5: 1.0},\n",
            " 5: {3: 0.49665813370370504, 4: 1.0}}\n",
            "Ii = \n",
            "{0: array([1, 2]),\n",
            " 1: array([2, 0]),\n",
            " 2: array([1, 0]),\n",
            " 3: array([5, 4]),\n",
            " 4: array([5, 3]),\n",
            " 5: array([4, 3])}\n"
          ]
        }
      ]
    },
    {
      "cell_type": "markdown",
      "source": [
        "## 嗜好予測"
      ],
      "metadata": {
        "id": "GKCeNrCXDgVg"
      }
    },
    {
      "cell_type": "markdown",
      "source": [
        "### 06 類似アイテム集合の中でユーザuが評価値を与えているアイテム集合\n",
        "### 07 予測評価値"
      ],
      "metadata": {
        "id": "Y_VHzZb8DyG3"
      }
    },
    {
      "cell_type": "code",
      "source": [
        "def predict(u, i):\n",
        "    \"\"\"\n",
        "    予測関数：ユーザuのアイテムiに対する予測評価値を返す。\n",
        "\n",
        "    Parameters\n",
        "    ----------\n",
        "    u : int\n",
        "        ユーザuのID\n",
        "    i : int\n",
        "        アイテムiのID\n",
        "    \n",
        "    Returns\n",
        "    -------\n",
        "    float\n",
        "        ユーザuのアイテムiに対する予測評価値\n",
        "    \"\"\"\n",
        "    # 06\n",
        "    Iiu = np.intersect1d(Ii[i], Iu[u])\n",
        "    print('I{}{} = {}'.format(i, u, Iiu))\n",
        "\n",
        "    if Iiu.size <= 0: return ru_mean[u]\n",
        "    # 07\n",
        "    num = np.sum([(S[i,j] * R[u,j]) for j in Iiu])\n",
        "    den = np.sum([np.abs(S[i,j]) for j in Iiu])\n",
        "    rui_pred = num / den\n",
        "    \n",
        "    return rui_pred"
      ],
      "metadata": {
        "id": "uLe2sEnUD1Op"
      },
      "execution_count": 10,
      "outputs": []
    },
    {
      "cell_type": "code",
      "source": [
        "u = 0\n",
        "i = 0\n",
        "print('r{}{} = {:.3f}'.format(u, i, predict(u, i)))\n",
        "u = 0\n",
        "i = 5\n",
        "print('r{}{} = {:.3f}'.format(u, i, predict(u, i)))"
      ],
      "metadata": {
        "colab": {
          "base_uri": "https://localhost:8080/"
        },
        "id": "fhwTmQhvD-am",
        "outputId": "3b38988b-8cee-4713-d46c-964bd13aae24"
      },
      "execution_count": 11,
      "outputs": [
        {
          "output_type": "stream",
          "name": "stdout",
          "text": [
            "I00 = [1 2]\n",
            "r00 = 3.630\n",
            "I50 = [3 4]\n",
            "r05 = 1.668\n"
          ]
        }
      ]
    }
  ]
}