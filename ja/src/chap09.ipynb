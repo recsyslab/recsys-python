{
  "nbformat": 4,
  "nbformat_minor": 0,
  "metadata": {
    "colab": {
      "name": "chap09.ipynb",
      "provenance": []
    },
    "kernelspec": {
      "name": "python3",
      "display_name": "Python 3"
    },
    "language_info": {
      "name": "python"
    }
  },
  "cells": [
    {
      "cell_type": "markdown",
      "source": [
        "# 第9章 単純ベイズ分類器"
      ],
      "metadata": {
        "id": "xSS6H42iL2XG"
      }
    },
    {
      "cell_type": "markdown",
      "source": [
        "## 準備"
      ],
      "metadata": {
        "id": "Wv-VxkwYL3Q2"
      }
    },
    {
      "cell_type": "code",
      "execution_count": 1,
      "metadata": {
        "id": "5xTBamTTLtDk"
      },
      "outputs": [],
      "source": [
        "import pprint\n",
        "import numpy as np\n",
        "from fractions import Fraction\n",
        "\n",
        "# 上位K件\n",
        "TOP_K = 3\n",
        "# スムージングパラメタ\n",
        "ALPHA = 1\n",
        "# クラス数\n",
        "N = 2\n",
        "# 各特徴量がとりうる値のユニーク数\n",
        "M = [2, 2, 2, 2, 2, 2]\n",
        "# しきい値\n",
        "THETA = 0.5\n",
        "\n",
        "Du = np.array([\n",
        "               [1, 0, 0, 0, 1, 0, +1],\n",
        "               [0, 1, 0, 0, 1, 0, +1],\n",
        "               [1, 1, 0, 0, 1, 0, +1],\n",
        "               [1, 0, 0, 1, 1, 0, +1],\n",
        "               [1, 0, 0, 0, 0, 1, +1],\n",
        "               [0, 1, 0, 1, 0, 1, +1],\n",
        "               [0, 0, 1, 0, 1, 0, -1],\n",
        "               [0, 0, 1, 1, 1, 0, -1],\n",
        "               [0, 1, 0, 0, 1, 1, -1],\n",
        "               [0, 0, 1, 0, 0, 1, -1],\n",
        "               [1, 1, 0, 1, 1, 0, np.nan],\n",
        "               [0, 0, 1, 0, 1, 1, np.nan],\n",
        "               [0, 1, 1, 1, 1, 0, np.nan],\n",
        "])\n",
        "I = np.arange(Du.shape[0])\n",
        "x = Du[:,:-1]\n",
        "ru = Du[:,-1]\n",
        "\n",
        "Iu = I[~np.isnan(ru)]\n",
        "Iu_not = np.setdiff1d(I, Iu)\n",
        "DuL = Du[Iu]\n",
        "xL = x[Iu]\n",
        "ruL = ru[Iu]\n",
        "DuU = Du[Iu_not]\n",
        "xU = x[Iu_not]"
      ]
    },
    {
      "cell_type": "markdown",
      "source": [
        "## 問題設定"
      ],
      "metadata": {
        "id": "7cF9n1MWMcql"
      }
    },
    {
      "cell_type": "markdown",
      "source": [
        "## 事前確率"
      ],
      "metadata": {
        "id": "VHOf0fczMe2-"
      }
    },
    {
      "cell_type": "markdown",
      "source": [
        "### 01 評価値がrとなる事前確率（分子）\n",
        "### 02 評価値がrとなる事前確率（分母）"
      ],
      "metadata": {
        "id": "U87vHRXKMicB"
      }
    },
    {
      "cell_type": "code",
      "source": [
        "def P_prior(r):\n",
        "    \"\"\"\n",
        "    評価値がrとなる事前確率を返す。\n",
        "\n",
        "    Parameters\n",
        "    ----------\n",
        "    r : int\n",
        "        評価値\n",
        "\n",
        "    Returns\n",
        "    -------\n",
        "    Fraction\n",
        "        事前確率\n",
        "    \"\"\"\n",
        "    # 01\n",
        "    num = DuL[ruL==r].shape[0]\n",
        "    # 02\n",
        "    den = DuL.shape[0]\n",
        "    prob = Fraction(num, den, _normalize=False)\n",
        "    return prob"
      ],
      "metadata": {
        "id": "H68LueIcMlpE"
      },
      "execution_count": 2,
      "outputs": []
    },
    {
      "cell_type": "code",
      "source": [
        "r = +1\n",
        "print('P(R={:+}) = {}'.format(r, P_prior(r)))\n",
        "r = -1\n",
        "print('P(R={:+}) = {}'.format(r, P_prior(r)))"
      ],
      "metadata": {
        "colab": {
          "base_uri": "https://localhost:8080/"
        },
        "id": "kne2bdQLM5Uy",
        "outputId": "4683b30b-7dc5-4162-9454-3680bcd0508c"
      },
      "execution_count": 3,
      "outputs": [
        {
          "output_type": "stream",
          "name": "stdout",
          "text": [
            "P(R=+1) = 6/10\n",
            "P(R=-1) = 4/10\n"
          ]
        }
      ]
    },
    {
      "cell_type": "markdown",
      "source": [
        "## 特徴量kに関する条件付き確率"
      ],
      "metadata": {
        "id": "DqernKJENF07"
      }
    },
    {
      "cell_type": "markdown",
      "source": [
        "### 03 特徴量kに関する条件付き確率（分子）\n",
        "### 04 特徴量kに関する条件付き確率（分母）"
      ],
      "metadata": {
        "id": "qfTLiMZSNINg"
      }
    },
    {
      "cell_type": "code",
      "source": [
        "def P_cond(i, k, r):\n",
        "    \"\"\"\n",
        "    評価値がrとなる条件下でアイテムiの特徴量kに関する条件付き確率を返す。\n",
        "\n",
        "    Parameters\n",
        "    ----------\n",
        "    i : int\n",
        "        アイテムiのID\n",
        "    k : int\n",
        "        特徴量kのインデックス\n",
        "    r : int\n",
        "        評価値\n",
        "\n",
        "    Returns\n",
        "    -------\n",
        "    Fraction\n",
        "        条件付き確率\n",
        "    \"\"\"\n",
        "    # 03\n",
        "    num = DuL[ruL==r][xL[:,k][ruL==r]==x[i,k]].shape[0]\n",
        "    # 04\n",
        "    den = DuL[ruL==r].shape[0]\n",
        "    prob = Fraction(num, den, _normalize=False)\n",
        "    return prob"
      ],
      "metadata": {
        "id": "hCKjdDcUNLCe"
      },
      "execution_count": 4,
      "outputs": []
    },
    {
      "cell_type": "code",
      "source": [
        "i = 10\n",
        "k = 0\n",
        "r = +1\n",
        "print('P(X{}=x{},{}|R={:+}) = {}'.format(k, i, k, r, P_cond(i, k, r)))\n",
        "r = -1\n",
        "print('P(X{}=x{},{}|R={:+}) = {}'.format(k, i, k, r, P_cond(i, k, r)))"
      ],
      "metadata": {
        "colab": {
          "base_uri": "https://localhost:8080/"
        },
        "id": "WM8jBAhVNanT",
        "outputId": "59e8341e-900f-4bb9-dfc0-eaf85b5278de"
      },
      "execution_count": 5,
      "outputs": [
        {
          "output_type": "stream",
          "name": "stdout",
          "text": [
            "P(X0=x10,0|R=+1) = 4/6\n",
            "P(X0=x10,0|R=-1) = 0/4\n"
          ]
        }
      ]
    },
    {
      "cell_type": "markdown",
      "source": [
        "## 嗜好予測"
      ],
      "metadata": {
        "id": "55PWq4aSNfuB"
      }
    },
    {
      "cell_type": "markdown",
      "source": [
        "### 05 好き嫌いの確率"
      ],
      "metadata": {
        "id": "JzE0jCTVmevf"
      }
    },
    {
      "cell_type": "code",
      "source": [
        "def P(i, r):\n",
        "    \"\"\"\n",
        "    アイテムiの評価値がrとなる確率を返す。\n",
        "\n",
        "    Parameters\n",
        "    ----------\n",
        "    i : int\n",
        "        アイテムiのID\n",
        "    r : int\n",
        "        評価値\n",
        "\n",
        "    Returns\n",
        "    -------\n",
        "    Fraction\n",
        "        事前確率\n",
        "    list of Fraction\n",
        "        各特徴量に関する条件付き確率\n",
        "    float\n",
        "        好き嫌いの確率\n",
        "    \"\"\"\n",
        "    pp = P_prior(r)\n",
        "    pk = [P_cond(i, k, r) for k in range(0, x.shape[1])]\n",
        "    # 05\n",
        "    prob = float(pp * np.prod(pk))\n",
        "    return pp, pk, prob"
      ],
      "metadata": {
        "id": "ZdF1vb8ZNko0"
      },
      "execution_count": 6,
      "outputs": []
    },
    {
      "cell_type": "code",
      "source": [
        "i = 10\n",
        "r = +1\n",
        "pp, pk, prob = P(i, r)\n",
        "left = 'P(R={:+}|'.format(r) + ','.join(map(str, map(int, x[i]))) + ')'\n",
        "right = str(pp) + '×' + '×'.join(map(str, pk))\n",
        "print('{} = {} = {:.3f}'.format(left, right, prob))\n",
        "\n",
        "r = -1\n",
        "pp, pk, prob = P(i, r)\n",
        "left = 'P(R={:+}|'.format(r) + ','.join(map(str, map(int, x[i]))) + ')'\n",
        "right = str(pp) + '×' + '×'.join(map(str, pk))\n",
        "print('{} = {} = {:.3f}'.format(left, right, prob))"
      ],
      "metadata": {
        "colab": {
          "base_uri": "https://localhost:8080/"
        },
        "id": "gJse1ceUNo3p",
        "outputId": "8b624210-9b7e-4a47-9927-b2a2111b5460"
      },
      "execution_count": 7,
      "outputs": [
        {
          "output_type": "stream",
          "name": "stdout",
          "text": [
            "P(R=+1|1,1,0,1,1,0) = 6/10×4/6×3/6×6/6×2/6×4/6×4/6 = 0.030\n",
            "P(R=-1|1,1,0,1,1,0) = 4/10×0/4×1/4×1/4×1/4×3/4×2/4 = 0.000\n"
          ]
        }
      ]
    },
    {
      "cell_type": "markdown",
      "source": [
        "## ラプラススムージング"
      ],
      "metadata": {
        "id": "WnnLS4_MOJYM"
      }
    },
    {
      "cell_type": "markdown",
      "source": [
        "### 06 評価値がrとなる事前確率（分子）（ラプラススムージングあり）\n",
        "### 07 評価値がrとなる事前確率（分母）（ラプラススムージングあり）\n",
        "### 08 特徴量kに関する条件付き確率（分子）\n",
        "### 09 特徴量kに関する条件付き確率（分母）"
      ],
      "metadata": {
        "id": "KkbCEEm-ONOu"
      }
    },
    {
      "cell_type": "code",
      "source": [
        "def P_prior(r):\n",
        "    \"\"\"\n",
        "    評価値がrとなる事前確率を返す。\n",
        "\n",
        "    Parameters\n",
        "    ----------\n",
        "    r : int\n",
        "        評価値\n",
        "\n",
        "    Returns\n",
        "    -------\n",
        "    Fraction\n",
        "        事前確率\n",
        "    \"\"\"\n",
        "    # 06\n",
        "    num = DuL[ruL==r].shape[0] + ALPHA\n",
        "    # 07\n",
        "    den = DuL.shape[0] + ALPHA * N\n",
        "    prob = Fraction(num, den, _normalize=False)\n",
        "    return prob"
      ],
      "metadata": {
        "id": "bPxoQBmfOT9m"
      },
      "execution_count": 8,
      "outputs": []
    },
    {
      "cell_type": "code",
      "source": [
        "r = +1\n",
        "print('P(R={:+}) = {}'.format(r, P_prior(r)))\n",
        "r = -1\n",
        "print('P(R={:+}) = {}'.format(r, P_prior(r)))"
      ],
      "metadata": {
        "colab": {
          "base_uri": "https://localhost:8080/"
        },
        "id": "0kmYzUkNVHM-",
        "outputId": "1c6dab4a-c23f-414a-b257-7c00f2440da2"
      },
      "execution_count": 9,
      "outputs": [
        {
          "output_type": "stream",
          "name": "stdout",
          "text": [
            "P(R=+1) = 7/12\n",
            "P(R=-1) = 5/12\n"
          ]
        }
      ]
    },
    {
      "cell_type": "code",
      "source": [
        "def P_cond(i, k, r):\n",
        "    \"\"\"\n",
        "    評価値がrとなる条件下でアイテムiの特徴量kに関する条件付き確率を返す。\n",
        "\n",
        "    Parameters\n",
        "    ----------\n",
        "    i : int\n",
        "        アイテムiのID\n",
        "    k : int\n",
        "        特徴量kのインデックス\n",
        "    r : int\n",
        "        評価値\n",
        "\n",
        "    Returns\n",
        "    -------\n",
        "    Fraction\n",
        "        条件付き確率\n",
        "    \"\"\"\n",
        "    # 08\n",
        "    num = DuL[ruL==r][xL[:,k][ruL==r]==x[i,k]].shape[0] + ALPHA\n",
        "    # 09\n",
        "    den = DuL[ruL==r].shape[0] + ALPHA * M[k]\n",
        "    prob = Fraction(num, den, _normalize=False)\n",
        "    return prob"
      ],
      "metadata": {
        "id": "JCV6NtBMObUw"
      },
      "execution_count": 10,
      "outputs": []
    },
    {
      "cell_type": "code",
      "source": [
        "i = 10\n",
        "k = 0\n",
        "r = +1\n",
        "print('P(X{}=x{},{}|R={:+}) = {}'.format(k, i, k, r, P_cond(i, k, r)))\n",
        "r = -1\n",
        "print('P(X{}=x{},{}|R={:+}) = {}'.format(k, i, k, r, P_cond(i, k, r)))"
      ],
      "metadata": {
        "id": "tHaWmsq5Oedg",
        "colab": {
          "base_uri": "https://localhost:8080/"
        },
        "outputId": "2fd425de-951c-48f7-81db-98db4d03bbfa"
      },
      "execution_count": 11,
      "outputs": [
        {
          "output_type": "stream",
          "name": "stdout",
          "text": [
            "P(X0=x10,0|R=+1) = 5/8\n",
            "P(X0=x10,0|R=-1) = 1/6\n"
          ]
        }
      ]
    },
    {
      "cell_type": "markdown",
      "source": [
        "## 推薦"
      ],
      "metadata": {
        "id": "xyqqm8AVT_fU"
      }
    },
    {
      "cell_type": "code",
      "source": [
        "def score(u, i):\n",
        "    \"\"\"\n",
        "    スコア関数：ユーザuのアイテムiに対するスコアを返す。\n",
        "\n",
        "    Parameters\n",
        "    ----------\n",
        "    u : int\n",
        "        ユーザuのID（ダミー）\n",
        "    i : int\n",
        "        アイテムiのID\n",
        "\n",
        "    Returns\n",
        "    -------\n",
        "    float\n",
        "        スコア\n",
        "    \"\"\"\n",
        "    # 10\n",
        "    _, _, prob_p = P(i, +1)\n",
        "    _, _, prob_n = P(i, -1)\n",
        "    scr = prob_p / (prob_p + prob_n)\n",
        "    return scr"
      ],
      "metadata": {
        "id": "_9jrd2d4UBmo"
      },
      "execution_count": 12,
      "outputs": []
    },
    {
      "cell_type": "code",
      "source": [
        "def order(u, I):\n",
        "    \"\"\"\n",
        "    順序付け関数：アイテム集合Iにおいて、ユーザu向けの推薦リストを返す。\n",
        "\n",
        "    Parameters\n",
        "    ----------\n",
        "    u : int\n",
        "        ユーザuのID\n",
        "    I : ndarray\n",
        "        アイテム集合\n",
        "\n",
        "    Returns\n",
        "    -------\n",
        "    list\n",
        "        タプル(アイテムID: スコア)を要素にした推薦リスト\n",
        "    \"\"\"\n",
        "    scores = {i: score(u, i) for i in I}\n",
        "    # 11\n",
        "    scores = {i:scr for i,scr in scores.items() if scr >= THETA}\n",
        "    rec_list = sorted(scores.items(), key=lambda x:x[1], reverse=True)[:TOP_K]\n",
        "    return rec_list"
      ],
      "metadata": {
        "id": "chKg9qhIWIq5"
      },
      "execution_count": 13,
      "outputs": []
    },
    {
      "cell_type": "markdown",
      "source": [
        "### 10 ユーザuのアイテムiに対するスコア"
      ],
      "metadata": {
        "id": "3kVLohm8WWB8"
      }
    },
    {
      "cell_type": "code",
      "source": [
        "u = 0\n",
        "scores = {i: score(u, i) for i in Iu_not}\n",
        "print('scores = ')\n",
        "pprint.pprint(scores)"
      ],
      "metadata": {
        "id": "N6tqhqJKWVgX",
        "colab": {
          "base_uri": "https://localhost:8080/"
        },
        "outputId": "b0669e15-7442-43b5-93b2-e63b8708bf12"
      },
      "execution_count": 14,
      "outputs": [
        {
          "output_type": "stream",
          "name": "stdout",
          "text": [
            "scores = \n",
            "{10: 0.9646054787625311, 11: 0.05517691284650013, 12: 0.18936236007174223}\n"
          ]
        }
      ]
    },
    {
      "cell_type": "markdown",
      "source": [
        "### 11 推薦リスト"
      ],
      "metadata": {
        "id": "6zynO0ARWXm1"
      }
    },
    {
      "cell_type": "code",
      "source": [
        "u = 0\n",
        "rec_list = order(u, Iu_not)\n",
        "print('rec_list = ')\n",
        "for i, scr in rec_list:\n",
        "    print('{}: {:.3f}'.format(i, scr))"
      ],
      "metadata": {
        "id": "9Hvt5fTTWjFe",
        "colab": {
          "base_uri": "https://localhost:8080/"
        },
        "outputId": "89f65bee-9eee-47f5-c292-e7e8a765c7f2"
      },
      "execution_count": 15,
      "outputs": [
        {
          "output_type": "stream",
          "name": "stdout",
          "text": [
            "rec_list = \n",
            "10: 0.965\n"
          ]
        }
      ]
    }
  ]
}