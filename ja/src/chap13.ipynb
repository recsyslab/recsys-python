{
  "nbformat": 4,
  "nbformat_minor": 0,
  "metadata": {
    "colab": {
      "name": "chap13.ipynb",
      "provenance": [],
      "collapsed_sections": []
    },
    "kernelspec": {
      "name": "python3",
      "display_name": "Python 3"
    },
    "language_info": {
      "name": "python"
    }
  },
  "cells": [
    {
      "cell_type": "markdown",
      "source": [
        "# 第13章 推薦順位に基づく正確性"
      ],
      "metadata": {
        "id": "SaRbVEigfUkh"
      }
    },
    {
      "cell_type": "markdown",
      "source": [
        "## テストデータと推薦リスト"
      ],
      "metadata": {
        "id": "P95wu36ufW39"
      }
    },
    {
      "cell_type": "markdown",
      "source": [
        "## 準備"
      ],
      "metadata": {
        "id": "Hr-gUtg5fYBp"
      }
    },
    {
      "cell_type": "code",
      "source": [
        "import math\n",
        "import numpy as np\n",
        "np.set_printoptions(precision=3)\n",
        "\n",
        "# 上位K件\n",
        "TOP_K = 5\n",
        "# 対数の底\n",
        "ALPHA = 2\n",
        "\n",
        "# テストデータ\n",
        "R = np.array([\n",
        "              [5, 4,      3, np.nan, 5, 4,      2,      2,      np.nan, np.nan],\n",
        "              [3, 3,      3, 3,      2, np.nan, 4,      np.nan, 5,      np.nan],\n",
        "              [4, np.nan, 3, 5,      4, 3,      np.nan, 3,      np.nan, np.nan],\n",
        "])\n",
        "U = np.arange(R.shape[0])\n",
        "I = np.arange(R.shape[1])\n",
        "Iu = [I[~np.isnan(R)[u,:]] for u in U]\n",
        "\n",
        "# 推薦システムAによる推薦リスト\n",
        "RA = np.array([\n",
        "               [1,      np.nan, 3,      np.nan, 4,      2,      5,      np.nan, np.nan, np.nan],\n",
        "               [4,      1,      np.nan, 3,      np.nan, np.nan, 5,      np.nan, 2,      np.nan],\n",
        "               [np.nan, np.nan, 5,      3,      4,      2,      np.nan, 1,      np.nan, np.nan],\n",
        "])\n",
        "\n",
        "def confusion_matrix(u, RS, K):\n",
        "    \"\"\"\n",
        "    ユーザu向け推薦リストRSの上位K件における混同行列の各値を返す。\n",
        "\n",
        "    Parameters\n",
        "    ----------\n",
        "    u : int\n",
        "        ユーザuのID\n",
        "    RS : ndarray\n",
        "        推薦リストRS\n",
        "    K : int\n",
        "        上位K件\n",
        "\n",
        "    Returns\n",
        "    -------\n",
        "    int\n",
        "        TP\n",
        "    int\n",
        "        FN\n",
        "    int\n",
        "        FP\n",
        "    int\n",
        "        TN\n",
        "    \"\"\"\n",
        "    like = R[u,Iu[u]]>=4\n",
        "    recommended = RS[u,Iu[u]]<=K\n",
        "    TP = np.count_nonzero(np.logical_and(like, recommended))\n",
        "    FN = np.count_nonzero(np.logical_and(like, ~recommended))\n",
        "    FP = np.count_nonzero(np.logical_and(~like, recommended))\n",
        "    TN = np.count_nonzero(np.logical_and(~like, ~recommended))\n",
        "    return TP, FN, FP, TN"
      ],
      "metadata": {
        "id": "-2_XFibrfY6U"
      },
      "execution_count": 1,
      "outputs": []
    },
    {
      "cell_type": "markdown",
      "source": [
        "## 平均逆順位"
      ],
      "metadata": {
        "id": "pPC5HKNdfevY"
      }
    },
    {
      "cell_type": "markdown",
      "source": [
        "### 01 好きなアイテムか否かの判定"
      ],
      "metadata": {
        "id": "2h_p4dmffjHx"
      }
    },
    {
      "cell_type": "code",
      "source": [
        "u = 0\n",
        "like = R>=4\n",
        "print('like = \\n{}'.format(like))"
      ],
      "metadata": {
        "colab": {
          "base_uri": "https://localhost:8080/"
        },
        "id": "XSJSuj65fsnA",
        "outputId": "f6fa4ceb-b214-4a86-d7ad-54c2055712e1"
      },
      "execution_count": 2,
      "outputs": [
        {
          "output_type": "stream",
          "name": "stdout",
          "text": [
            "like = \n",
            "[[ True  True False False  True  True False False False False]\n",
            " [False False False False False False  True False  True False]\n",
            " [ True False False  True  True False False False False False]]\n"
          ]
        }
      ]
    },
    {
      "cell_type": "markdown",
      "source": [
        "### 02 最初に好きなアイテムが見つかったときの順位"
      ],
      "metadata": {
        "id": "imJJmzlpfk8A"
      }
    },
    {
      "cell_type": "code",
      "source": [
        "ku = np.array([np.nanmin(RA[u,like[u]]) for u in U])\n",
        "print('ku = {}'.format(ku))"
      ],
      "metadata": {
        "colab": {
          "base_uri": "https://localhost:8080/"
        },
        "id": "PSHh-Dh4fu-l",
        "outputId": "706de843-811e-4bda-a5be-e24e2c408fe7"
      },
      "execution_count": 3,
      "outputs": [
        {
          "output_type": "stream",
          "name": "stdout",
          "text": [
            "ku = [1. 2. 3.]\n"
          ]
        }
      ]
    },
    {
      "cell_type": "markdown",
      "source": [
        "### 03 MRR"
      ],
      "metadata": {
        "id": "JTSACDT4foCd"
      }
    },
    {
      "cell_type": "code",
      "source": [
        "MRR = (1 / U.size) * np.sum([1 / ku[u] for u in U])\n",
        "print('MRR = {:.3f}'.format(MRR))"
      ],
      "metadata": {
        "colab": {
          "base_uri": "https://localhost:8080/"
        },
        "id": "yHlnWsevfwYl",
        "outputId": "3848c781-85c3-4a17-a611-47ed79a83561"
      },
      "execution_count": 4,
      "outputs": [
        {
          "output_type": "stream",
          "name": "stdout",
          "text": [
            "MRR = 0.611\n"
          ]
        }
      ]
    },
    {
      "cell_type": "markdown",
      "source": [
        "## 平均適合率"
      ],
      "metadata": {
        "id": "IleFj9uugCLw"
      }
    },
    {
      "cell_type": "code",
      "source": [
        "# 各順位における適合率\n",
        "precisions = []\n",
        "for u in U:\n",
        "    precisions_u = []\n",
        "    for k in range(1, Iu[u].size+1):\n",
        "        TP, FN, FP, TN = confusion_matrix(u, RA, k)\n",
        "        precision_uk = TP / (TP + FP)\n",
        "        precisions_u.append(precision_uk)\n",
        "    precisions.append(precisions_u)\n",
        "print('precisions = \\n{}'.format(precisions))"
      ],
      "metadata": {
        "colab": {
          "base_uri": "https://localhost:8080/"
        },
        "id": "YFD8g7eMgPe9",
        "outputId": "25a235d4-ced3-4ed0-b3d4-c70e891ba17a"
      },
      "execution_count": 5,
      "outputs": [
        {
          "output_type": "stream",
          "name": "stdout",
          "text": [
            "precisions = \n",
            "[[1.0, 1.0, 0.6666666666666666, 0.75, 0.6, 0.6, 0.6], [0.0, 0.5, 0.3333333333333333, 0.25, 0.4, 0.4, 0.4], [0.0, 0.0, 0.3333333333333333, 0.5, 0.4, 0.4]]\n"
          ]
        }
      ]
    },
    {
      "cell_type": "markdown",
      "source": [
        "### 04 評価値行列の並べ替え"
      ],
      "metadata": {
        "id": "IS8oBxc2gEDT"
      }
    },
    {
      "cell_type": "code",
      "source": [
        "indices = np.argsort(RA)\n",
        "ranked_R = np.array([R[u,indices[u]] for u in U])\n",
        "print('ranked_R = \\n{}'.format(ranked_R))"
      ],
      "metadata": {
        "colab": {
          "base_uri": "https://localhost:8080/"
        },
        "id": "15taU3_Uggmm",
        "outputId": "2b530946-fd30-4359-a896-b546f80d518c"
      },
      "execution_count": 6,
      "outputs": [
        {
          "output_type": "stream",
          "name": "stdout",
          "text": [
            "ranked_R = \n",
            "[[ 5.  4.  3.  5.  2.  4. nan  2. nan nan]\n",
            " [ 3.  5.  3.  3.  4.  3.  2. nan nan nan]\n",
            " [ 3.  3.  5.  4.  3.  4. nan nan nan nan]]\n"
          ]
        }
      ]
    },
    {
      "cell_type": "markdown",
      "source": [
        "### 05 好きなアイテムか否かの判定"
      ],
      "metadata": {
        "id": "VsYApVQFgWZJ"
      }
    },
    {
      "cell_type": "code",
      "source": [
        "ranked_like = ranked_R>=4\n",
        "print('ranked_like = \\n{}'.format(ranked_like))"
      ],
      "metadata": {
        "colab": {
          "base_uri": "https://localhost:8080/"
        },
        "id": "w95a4RyOgnGZ",
        "outputId": "b0993f99-6971-4892-a145-6f789027e868"
      },
      "execution_count": 7,
      "outputs": [
        {
          "output_type": "stream",
          "name": "stdout",
          "text": [
            "ranked_like = \n",
            "[[ True  True False  True False  True False False False False]\n",
            " [False  True False False  True False False False False False]\n",
            " [False False  True  True False  True False False False False]]\n"
          ]
        }
      ]
    },
    {
      "cell_type": "markdown",
      "source": [
        "### 06 好きなアイテムか否かの判定"
      ],
      "metadata": {
        "id": "t6sDUiRsgYte"
      }
    },
    {
      "cell_type": "code",
      "source": [
        "rel = np.array([list(map(int, ranked_like[u])) for u in U])\n",
        "print('rel = \\n{}'.format(rel))"
      ],
      "metadata": {
        "colab": {
          "base_uri": "https://localhost:8080/"
        },
        "id": "i-EcKup-gqHg",
        "outputId": "e786d8be-9acb-45fb-b430-71554c356081"
      },
      "execution_count": 8,
      "outputs": [
        {
          "output_type": "stream",
          "name": "stdout",
          "text": [
            "rel = \n",
            "[[1 1 0 1 0 1 0 0 0 0]\n",
            " [0 1 0 0 1 0 0 0 0 0]\n",
            " [0 0 1 1 0 1 0 0 0 0]]\n"
          ]
        }
      ]
    },
    {
      "cell_type": "markdown",
      "source": [
        "### 07 各ユーザのAP"
      ],
      "metadata": {
        "id": "Zj1hoWtQgamM"
      }
    },
    {
      "cell_type": "code",
      "source": [
        "APu = np.array([(1 / np.sum([rel[u,k] for k in range(0, TOP_K)])) * np.sum([rel[u,k] * precisions[u][k] for k in range(0, TOP_K)]) for u in U])\n",
        "print('APu = {}'.format(APu))"
      ],
      "metadata": {
        "colab": {
          "base_uri": "https://localhost:8080/"
        },
        "id": "Ngqkv3k0grq6",
        "outputId": "d1085e52-d6b9-4302-b4fb-11faf0764fa6"
      },
      "execution_count": 9,
      "outputs": [
        {
          "output_type": "stream",
          "name": "stdout",
          "text": [
            "APu = [0.917 0.45  0.417]\n"
          ]
        }
      ]
    },
    {
      "cell_type": "markdown",
      "source": [
        "### 08 MAP"
      ],
      "metadata": {
        "id": "dR47AzuCgcQz"
      }
    },
    {
      "cell_type": "code",
      "source": [
        "MAP = (1 / U.size) * np.sum(APu)\n",
        "print('MAP = {:.3f}'.format(MAP))"
      ],
      "metadata": {
        "id": "NsaZsqq3gtPX",
        "colab": {
          "base_uri": "https://localhost:8080/"
        },
        "outputId": "94628328-d8d5-4967-ec38-d095c4c3fe66"
      },
      "execution_count": 10,
      "outputs": [
        {
          "output_type": "stream",
          "name": "stdout",
          "text": [
            "MAP = 0.594\n"
          ]
        }
      ]
    },
    {
      "cell_type": "markdown",
      "source": [
        "## DCG"
      ],
      "metadata": {
        "id": "5b9_tnX0L-8b"
      }
    },
    {
      "cell_type": "code",
      "source": [
        "Iu_rec = [I[~np.isnan(RA[u])] for u in U]"
      ],
      "metadata": {
        "id": "m0uSXd_VMQR_"
      },
      "execution_count": 11,
      "outputs": []
    },
    {
      "cell_type": "markdown",
      "source": [
        "### 09 各ユーザのDCG"
      ],
      "metadata": {
        "id": "c1k2ar3ZMUho"
      }
    },
    {
      "cell_type": "code",
      "source": [
        "DCGu = np.array([np.sum([R[u,i] / np.max([1, math.log(RA[u,i], ALPHA)]) for i in Iu_rec[u]]) for u in U])\n",
        "print('DCGu = {}'.format(DCGu))"
      ],
      "metadata": {
        "colab": {
          "base_uri": "https://localhost:8080/"
        },
        "id": "RsScK44SMe7j",
        "outputId": "6985b86b-f4ab-4948-b02c-a5c90db50ca1"
      },
      "execution_count": 12,
      "outputs": [
        {
          "output_type": "stream",
          "name": "stdout",
          "text": [
            "DCGu = [14.254 13.115 12.447]\n"
          ]
        }
      ]
    },
    {
      "cell_type": "markdown",
      "source": [
        "### 10 理想的な推薦順位"
      ],
      "metadata": {
        "id": "RUOYvx5eMWfG"
      }
    },
    {
      "cell_type": "code",
      "source": [
        "RI = np.argsort(np.argsort(-R)) + 1\n",
        "print('RI = \\n{}'.format(RI))"
      ],
      "metadata": {
        "colab": {
          "base_uri": "https://localhost:8080/"
        },
        "id": "qk3r0zb-MhbA",
        "outputId": "410f96eb-10c7-43d9-f3d2-4d312539b63f"
      },
      "execution_count": 13,
      "outputs": [
        {
          "output_type": "stream",
          "name": "stdout",
          "text": [
            "RI = \n",
            "[[ 1  3  5  8  2  4  6  7  9 10]\n",
            " [ 3  4  5  6  7  8  2  9  1 10]\n",
            " [ 2  7  4  1  3  5  8  6  9 10]]\n"
          ]
        }
      ]
    },
    {
      "cell_type": "markdown",
      "source": [
        "### 11 理想的な推薦リスト"
      ],
      "metadata": {
        "id": "Tk48Dbs6MXu9"
      }
    },
    {
      "cell_type": "code",
      "source": [
        "print(I[RI[0]<=TOP_K])\n",
        "Iu_recI = np.array([I[RI[u]<=TOP_K] for u in U])\n",
        "print('Iu_recI = \\n{}'.format(Iu_recI))"
      ],
      "metadata": {
        "colab": {
          "base_uri": "https://localhost:8080/"
        },
        "id": "QWiXX0o5Mjyp",
        "outputId": "0b84f541-ca07-4f8b-a3cb-b924f075c1d3"
      },
      "execution_count": 14,
      "outputs": [
        {
          "output_type": "stream",
          "name": "stdout",
          "text": [
            "[0 1 2 4 5]\n",
            "Iu_recI = \n",
            "[[0 1 2 4 5]\n",
            " [0 1 2 6 8]\n",
            " [0 2 3 4 5]]\n"
          ]
        }
      ]
    },
    {
      "cell_type": "markdown",
      "source": [
        "### 12 各ユーザのIDCG"
      ],
      "metadata": {
        "id": "3wrwllhfMY8p"
      }
    },
    {
      "cell_type": "code",
      "source": [
        "IDCGu = np.array([np.sum([R[u,i] / np.max([1, math.log(RI[u,i], ALPHA)]) for i in Iu_recI[u]]) for u in U])\n",
        "print('IDCGu = {}'.format(IDCGu))"
      ],
      "metadata": {
        "id": "Wl9pFSKOMl5o",
        "colab": {
          "base_uri": "https://localhost:8080/"
        },
        "outputId": "77f80402-933f-4ce1-ed01-853c143e8ab9"
      },
      "execution_count": 15,
      "outputs": [
        {
          "output_type": "stream",
          "name": "stdout",
          "text": [
            "IDCGu = [15.816 13.685 14.316]\n"
          ]
        }
      ]
    },
    {
      "cell_type": "markdown",
      "source": [
        "### 13 各ユーザのnDCG"
      ],
      "metadata": {
        "id": "R3WIfXNtMaVQ"
      }
    },
    {
      "cell_type": "code",
      "source": [
        "nDCGu = DCGu / IDCGu\n",
        "print('nDCGu = {}'.format(nDCGu))"
      ],
      "metadata": {
        "id": "Lrz5xozIMo64",
        "colab": {
          "base_uri": "https://localhost:8080/"
        },
        "outputId": "69fc7445-ebea-484f-a4ac-dc4ad04e1dbe"
      },
      "execution_count": 16,
      "outputs": [
        {
          "output_type": "stream",
          "name": "stdout",
          "text": [
            "nDCGu = [0.901 0.958 0.869]\n"
          ]
        }
      ]
    },
    {
      "cell_type": "markdown",
      "source": [
        "### 14 nDCG"
      ],
      "metadata": {
        "id": "Fo7tbdlpMrrQ"
      }
    },
    {
      "cell_type": "code",
      "source": [
        "nDCG = (1 / U.size) * np.sum([nDCGu[u] for u in U])\n",
        "print('nDCG = {:.3f}'.format(nDCG))"
      ],
      "metadata": {
        "id": "bCRHxygjMuNN",
        "colab": {
          "base_uri": "https://localhost:8080/"
        },
        "outputId": "42c499af-8d28-4f6c-b0c1-073ad8c7174d"
      },
      "execution_count": 17,
      "outputs": [
        {
          "output_type": "stream",
          "name": "stdout",
          "text": [
            "nDCG = 0.910\n"
          ]
        }
      ]
    }
  ]
}