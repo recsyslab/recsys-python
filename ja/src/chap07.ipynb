{
  "nbformat": 4,
  "nbformat_minor": 0,
  "metadata": {
    "colab": {
      "name": "chap07.ipynb",
      "provenance": []
    },
    "kernelspec": {
      "name": "python3",
      "display_name": "Python 3"
    },
    "language_info": {
      "name": "python"
    }
  },
  "cells": [
    {
      "cell_type": "markdown",
      "source": [
        "# 第7章 評価履歴の次元削減"
      ],
      "metadata": {
        "id": "bpWwLjvkko2s"
      }
    },
    {
      "cell_type": "markdown",
      "source": [
        "## 準備"
      ],
      "metadata": {
        "id": "0iw9mWmdkq-d"
      }
    },
    {
      "cell_type": "code",
      "execution_count": 1,
      "metadata": {
        "id": "un1p_T5qj53J"
      },
      "outputs": [],
      "source": [
        "import numpy as np\n",
        "import numpy.linalg as LA\n",
        "np.set_printoptions(precision=3)\n",
        "\n",
        "# 縮約後の次元数\n",
        "DIM = 2\n",
        "\n",
        "Du = np.array([\n",
        "               [5, 3, 3, +1],\n",
        "               [6, 2, 5, +1],\n",
        "               [4, 1, 5, +1],\n",
        "               [8, 5, 9, -1],\n",
        "               [2, 4, 2, -1],\n",
        "               [3, 6, 5, -1],\n",
        "               [7, 6, 8, -1],\n",
        "               [4, 2, 3, np.nan],\n",
        "               [5, 1, 8, np.nan],\n",
        "               [8, 6, 6, np.nan],\n",
        "               [3, 4, 2, np.nan],\n",
        "               [4, 7, 5, np.nan],\n",
        "               [4, 4, 4, np.nan],\n",
        "])\n",
        "I = np.arange(Du.shape[0])\n",
        "x = Du[:,:-1]\n",
        "ru = Du[:,-1]"
      ]
    },
    {
      "cell_type": "markdown",
      "source": [
        "## 分散共分散行列"
      ],
      "metadata": {
        "id": "ylU-FnxOkz5e"
      }
    },
    {
      "cell_type": "markdown",
      "source": [
        "### 01 各特徴量の平均値"
      ],
      "metadata": {
        "id": "RUtEc6SylaLJ"
      }
    },
    {
      "cell_type": "code",
      "source": [
        "xk_mean = np.mean(x, axis=0)\n",
        "print('xk_mean = {}'.format(xk_mean))"
      ],
      "metadata": {
        "colab": {
          "base_uri": "https://localhost:8080/"
        },
        "id": "XwIku_9Gk2wi",
        "outputId": "9b7a66f9-62a2-439b-9eda-c8c644eb022c"
      },
      "execution_count": 2,
      "outputs": [
        {
          "output_type": "stream",
          "name": "stdout",
          "text": [
            "xk_mean = [4.846 3.923 5.   ]\n"
          ]
        }
      ]
    },
    {
      "cell_type": "markdown",
      "source": [
        "### 02 各特徴量の分散"
      ],
      "metadata": {
        "id": "O-rSwzvzlkcZ"
      }
    },
    {
      "cell_type": "code",
      "source": [
        "s2 = np.var(x, axis=0)\n",
        "print('s^2 = {}'.format(s2))"
      ],
      "metadata": {
        "colab": {
          "base_uri": "https://localhost:8080/"
        },
        "id": "Lk3GtwD9lmG5",
        "outputId": "0257dec4-5cce-4d39-fc7b-8d07cc7e6f56"
      },
      "execution_count": 3,
      "outputs": [
        {
          "output_type": "stream",
          "name": "stdout",
          "text": [
            "s^2 = [3.361 3.763 4.769]\n"
          ]
        }
      ]
    },
    {
      "cell_type": "code",
      "source": [
        "d = x.shape[1]\n",
        "s2 = np.array([(1 / I.size) * np.sum([(x[i,k] - xk_mean[k])**2 for i in I]) for k in range(0, d)])\n",
        "print('s^2 = {}'.format(s2))"
      ],
      "metadata": {
        "colab": {
          "base_uri": "https://localhost:8080/"
        },
        "id": "_cnr3P2KlxaY",
        "outputId": "d90d53fd-2a11-4dbd-d661-47a2fbf3749e"
      },
      "execution_count": 4,
      "outputs": [
        {
          "output_type": "stream",
          "name": "stdout",
          "text": [
            "s^2 = [3.361 3.763 4.769]\n"
          ]
        }
      ]
    },
    {
      "cell_type": "code",
      "source": [
        "s2 = np.array([(1 / I.size) * np.sum((x[:,k] - xk_mean[k])**2) for k in range(0, d)])\n",
        "print('s^2 = {}'.format(s2))"
      ],
      "metadata": {
        "colab": {
          "base_uri": "https://localhost:8080/"
        },
        "id": "kspM5nGNlxL1",
        "outputId": "0006d5a2-fde8-4f52-8e3b-43c207fffb9d"
      },
      "execution_count": 5,
      "outputs": [
        {
          "output_type": "stream",
          "name": "stdout",
          "text": [
            "s^2 = [3.361 3.763 4.769]\n"
          ]
        }
      ]
    },
    {
      "cell_type": "code",
      "source": [
        "s2 = (1 / I.size) * np.sum((x - xk_mean)**2, axis=0)\n",
        "print('s^2 = {}'.format(s2))"
      ],
      "metadata": {
        "colab": {
          "base_uri": "https://localhost:8080/"
        },
        "id": "sFMs_khGlw6J",
        "outputId": "cea60730-b299-4732-9728-d94978c84e11"
      },
      "execution_count": 6,
      "outputs": [
        {
          "output_type": "stream",
          "name": "stdout",
          "text": [
            "s^2 = [3.361 3.763 4.769]\n"
          ]
        }
      ]
    },
    {
      "cell_type": "markdown",
      "source": [
        "### 03 各特徴量の標準化"
      ],
      "metadata": {
        "id": "y8Q1pdeImLo0"
      }
    },
    {
      "cell_type": "code",
      "source": [
        "x2 = np.array([[(x[i,k] - xk_mean[k]) / np.sqrt(s2[k]) for k in range(0, d)] for i in I])\n",
        "print('x\\' = \\n{}'.format(x2))"
      ],
      "metadata": {
        "colab": {
          "base_uri": "https://localhost:8080/"
        },
        "id": "0wU9ANPemNCw",
        "outputId": "8462c4b9-06f6-4f47-b814-e67840aaada3"
      },
      "execution_count": 7,
      "outputs": [
        {
          "output_type": "stream",
          "name": "stdout",
          "text": [
            "x' = \n",
            "[[ 0.084 -0.476 -0.916]\n",
            " [ 0.629 -0.991  0.   ]\n",
            " [-0.462 -1.507  0.   ]\n",
            " [ 1.72   0.555  1.832]\n",
            " [-1.552  0.04  -1.374]\n",
            " [-1.007  1.071  0.   ]\n",
            " [ 1.175  1.071  1.374]\n",
            " [-0.462 -0.991 -0.916]\n",
            " [ 0.084 -1.507  1.374]\n",
            " [ 1.72   1.071  0.458]\n",
            " [-1.007  0.04  -1.374]\n",
            " [-0.462  1.586  0.   ]\n",
            " [-0.462  0.04  -0.458]]\n"
          ]
        }
      ]
    },
    {
      "cell_type": "code",
      "source": [
        "x2 = np.array([(x[i] - xk_mean) / np.sqrt(s2) for i in I])\n",
        "print('x\\' = \\n{}'.format(x2))"
      ],
      "metadata": {
        "colab": {
          "base_uri": "https://localhost:8080/"
        },
        "id": "dRHq4qbNmfTA",
        "outputId": "41c2eee1-b3ca-48b8-8edb-de169e902830"
      },
      "execution_count": 8,
      "outputs": [
        {
          "output_type": "stream",
          "name": "stdout",
          "text": [
            "x' = \n",
            "[[ 0.084 -0.476 -0.916]\n",
            " [ 0.629 -0.991  0.   ]\n",
            " [-0.462 -1.507  0.   ]\n",
            " [ 1.72   0.555  1.832]\n",
            " [-1.552  0.04  -1.374]\n",
            " [-1.007  1.071  0.   ]\n",
            " [ 1.175  1.071  1.374]\n",
            " [-0.462 -0.991 -0.916]\n",
            " [ 0.084 -1.507  1.374]\n",
            " [ 1.72   1.071  0.458]\n",
            " [-1.007  0.04  -1.374]\n",
            " [-0.462  1.586  0.   ]\n",
            " [-0.462  0.04  -0.458]]\n"
          ]
        }
      ]
    },
    {
      "cell_type": "code",
      "source": [
        "x2 = np.array((x - xk_mean) / np.sqrt(s2))\n",
        "print('x\\' = \\n{}'.format(x2))"
      ],
      "metadata": {
        "colab": {
          "base_uri": "https://localhost:8080/"
        },
        "id": "yCLrDcormfgC",
        "outputId": "03bc9245-7564-473e-9f31-bd6d90bd4371"
      },
      "execution_count": 9,
      "outputs": [
        {
          "output_type": "stream",
          "name": "stdout",
          "text": [
            "x' = \n",
            "[[ 0.084 -0.476 -0.916]\n",
            " [ 0.629 -0.991  0.   ]\n",
            " [-0.462 -1.507  0.   ]\n",
            " [ 1.72   0.555  1.832]\n",
            " [-1.552  0.04  -1.374]\n",
            " [-1.007  1.071  0.   ]\n",
            " [ 1.175  1.071  1.374]\n",
            " [-0.462 -0.991 -0.916]\n",
            " [ 0.084 -1.507  1.374]\n",
            " [ 1.72   1.071  0.458]\n",
            " [-1.007  0.04  -1.374]\n",
            " [-0.462  1.586  0.   ]\n",
            " [-0.462  0.04  -0.458]]\n"
          ]
        }
      ]
    },
    {
      "cell_type": "markdown",
      "source": [
        "### 04 標準化された特徴量kと特徴量lの共分散"
      ],
      "metadata": {
        "id": "XgJCy0HMm6HH"
      }
    },
    {
      "cell_type": "code",
      "source": [
        "k = 0\n",
        "l = 1\n",
        "skl = np.cov(x2, rowvar=False, bias=True)[k, l]\n",
        "print('s{}{} = {:.3f}'.format(k, l, skl))"
      ],
      "metadata": {
        "colab": {
          "base_uri": "https://localhost:8080/"
        },
        "id": "PnL0FwvjnF9l",
        "outputId": "9fd711a2-0a7c-4485-86e5-018ffbc38d2a"
      },
      "execution_count": 10,
      "outputs": [
        {
          "output_type": "stream",
          "name": "stdout",
          "text": [
            "s01 = 0.191\n"
          ]
        }
      ]
    },
    {
      "cell_type": "code",
      "source": [
        "k = 0\n",
        "l = 1\n",
        "skl = (1 / I.size) * np.sum([x2[i, k] * x2[i, l] for i in I])\n",
        "print('s{}{} = {:.3f}'.format(k, l, skl))"
      ],
      "metadata": {
        "colab": {
          "base_uri": "https://localhost:8080/"
        },
        "id": "yYBustCKm7W3",
        "outputId": "9ea7ec55-744f-4645-e97a-f0c9d2a72482"
      },
      "execution_count": 11,
      "outputs": [
        {
          "output_type": "stream",
          "name": "stdout",
          "text": [
            "s01 = 0.191\n"
          ]
        }
      ]
    },
    {
      "cell_type": "code",
      "source": [
        "k = 0\n",
        "l = 1\n",
        "skl = (1 / I.size) * np.sum(x2[:, k] * x2[:, l])\n",
        "print('s{}{} = {:.3f}'.format(k, l, skl))"
      ],
      "metadata": {
        "colab": {
          "base_uri": "https://localhost:8080/"
        },
        "id": "eIFyYmSTnFXG",
        "outputId": "ceea5626-f7d0-425c-fa51-f544e942dc8a"
      },
      "execution_count": 12,
      "outputs": [
        {
          "output_type": "stream",
          "name": "stdout",
          "text": [
            "s01 = 0.191\n"
          ]
        }
      ]
    },
    {
      "cell_type": "markdown",
      "source": [
        "### 05 分散共分散行列"
      ],
      "metadata": {
        "id": "V6mX-totovmS"
      }
    },
    {
      "cell_type": "code",
      "source": [
        "S = np.cov(x2, rowvar=False, bias=True)\n",
        "print('S = \\n{}'.format(S))"
      ],
      "metadata": {
        "colab": {
          "base_uri": "https://localhost:8080/"
        },
        "id": "h92qjhPIoxxD",
        "outputId": "7a62ba38-74db-455d-d158-255b612032a2"
      },
      "execution_count": 13,
      "outputs": [
        {
          "output_type": "stream",
          "name": "stdout",
          "text": [
            "S = \n",
            "[[1.    0.191 0.749]\n",
            " [0.191 1.    0.163]\n",
            " [0.749 0.163 1.   ]]\n"
          ]
        }
      ]
    },
    {
      "cell_type": "code",
      "source": [
        "S = np.zeros((d, d))\n",
        "for k in range(0, d):\n",
        "    for l in range(0, d):\n",
        "        S[k,l] = (1 / I.size) * np.sum([x2[i, k] * x2[i, l] for i in I])\n",
        "print('S = \\n{}'.format(S))"
      ],
      "metadata": {
        "colab": {
          "base_uri": "https://localhost:8080/"
        },
        "id": "eoma0JZyo1RF",
        "outputId": "cbeec4c4-0cce-42f2-ac5b-221c30408125"
      },
      "execution_count": 14,
      "outputs": [
        {
          "output_type": "stream",
          "name": "stdout",
          "text": [
            "S = \n",
            "[[1.    0.191 0.749]\n",
            " [0.191 1.    0.163]\n",
            " [0.749 0.163 1.   ]]\n"
          ]
        }
      ]
    },
    {
      "cell_type": "code",
      "source": [
        "S = np.array([[(1 / I.size) * np.sum([x2[i, k] * x2[i, l] for i in I]) for k in range(0, d)] for l in range(0, d)])\n",
        "print('S = \\n{}'.format(S))"
      ],
      "metadata": {
        "colab": {
          "base_uri": "https://localhost:8080/"
        },
        "id": "gdEDUBV8o15i",
        "outputId": "3fc329ff-3653-4df1-dde8-cdbf53a33e74"
      },
      "execution_count": 15,
      "outputs": [
        {
          "output_type": "stream",
          "name": "stdout",
          "text": [
            "S = \n",
            "[[1.    0.191 0.749]\n",
            " [0.191 1.    0.163]\n",
            " [0.749 0.163 1.   ]]\n"
          ]
        }
      ]
    },
    {
      "cell_type": "markdown",
      "source": [
        "## 固有値・固有ベクトル"
      ],
      "metadata": {
        "id": "Uc6O7LYgpQcA"
      }
    },
    {
      "cell_type": "markdown",
      "source": [
        "### 06 固有値・固有ベクトル"
      ],
      "metadata": {
        "id": "bZehsQQIp1uG"
      }
    },
    {
      "cell_type": "code",
      "source": [
        "lmd, v = LA.eig(S)\n",
        "print('λ = {}'.format(lmd))\n",
        "print('v = \\n{}'.format(v))"
      ],
      "metadata": {
        "colab": {
          "base_uri": "https://localhost:8080/"
        },
        "id": "aKETETK6pTR9",
        "outputId": "6c093524-7cfc-4525-c476-44c3218a3d41"
      },
      "execution_count": 16,
      "outputs": [
        {
          "output_type": "stream",
          "name": "stdout",
          "text": [
            "λ = [1.826 0.25  0.924]\n",
            "v = \n",
            "[[-0.679 -0.71   0.186]\n",
            " [-0.291  0.028 -0.956]\n",
            " [-0.674  0.704  0.225]]\n"
          ]
        }
      ]
    },
    {
      "cell_type": "markdown",
      "source": [
        "### 07 固有値の降順にソートしたインデックス配列"
      ],
      "metadata": {
        "id": "7w8tvV5UqJkA"
      }
    },
    {
      "cell_type": "code",
      "source": [
        "indices = np.argsort(lmd)[::-1]\n",
        "print('indices = {}'.format(indices))"
      ],
      "metadata": {
        "colab": {
          "base_uri": "https://localhost:8080/"
        },
        "id": "NmktrVfoqMBY",
        "outputId": "95dd5cd1-3a72-4cac-c4b2-b5d2684997a2"
      },
      "execution_count": 17,
      "outputs": [
        {
          "output_type": "stream",
          "name": "stdout",
          "text": [
            "indices = [0 2 1]\n"
          ]
        }
      ]
    },
    {
      "cell_type": "markdown",
      "source": [
        "### 08 固有値の降順に固有値配列をソート"
      ],
      "metadata": {
        "id": "3Wb6eeWaqVnS"
      }
    },
    {
      "cell_type": "code",
      "source": [
        "lmd = lmd[indices]\n",
        "print('λ = {}'.format(lmd))"
      ],
      "metadata": {
        "colab": {
          "base_uri": "https://localhost:8080/"
        },
        "id": "_jANE1J-qXvb",
        "outputId": "23641275-f909-45ed-b8f9-736ee45c2070"
      },
      "execution_count": 18,
      "outputs": [
        {
          "output_type": "stream",
          "name": "stdout",
          "text": [
            "λ = [1.826 0.924 0.25 ]\n"
          ]
        }
      ]
    },
    {
      "cell_type": "markdown",
      "source": [
        "### 09 固有値の降順に固有ベクトル配列をソート"
      ],
      "metadata": {
        "id": "AQ0Mlqdlqe7Z"
      }
    },
    {
      "cell_type": "code",
      "source": [
        "v = v[:, indices]\n",
        "print('v = \\n{}'.format(v))"
      ],
      "metadata": {
        "colab": {
          "base_uri": "https://localhost:8080/"
        },
        "id": "TksxxUhIqf_D",
        "outputId": "9a6b4f8b-0523-4966-d56b-91e5b6b498de"
      },
      "execution_count": 19,
      "outputs": [
        {
          "output_type": "stream",
          "name": "stdout",
          "text": [
            "v = \n",
            "[[-0.679  0.186 -0.71 ]\n",
            " [-0.291 -0.956  0.028]\n",
            " [-0.674  0.225  0.704]]\n"
          ]
        }
      ]
    },
    {
      "cell_type": "markdown",
      "source": [
        "### 10 第d主成分までの固有ベクトル"
      ],
      "metadata": {
        "id": "XQLqvSpvqv1j"
      }
    },
    {
      "cell_type": "code",
      "source": [
        "V = v[:, :DIM]\n",
        "print('V = \\n{}'.format(V))"
      ],
      "metadata": {
        "colab": {
          "base_uri": "https://localhost:8080/"
        },
        "id": "CFAKoQH1qxqS",
        "outputId": "1b94df05-f81a-42d1-9e69-09ab1ea581eb"
      },
      "execution_count": 20,
      "outputs": [
        {
          "output_type": "stream",
          "name": "stdout",
          "text": [
            "V = \n",
            "[[-0.679  0.186]\n",
            " [-0.291 -0.956]\n",
            " [-0.674  0.225]]\n"
          ]
        }
      ]
    },
    {
      "cell_type": "markdown",
      "source": [
        "## 主成分得点"
      ],
      "metadata": {
        "id": "pL2ggQrXq7_Q"
      }
    },
    {
      "cell_type": "markdown",
      "source": [
        "### 11 アイテムiの第k主成分得点"
      ],
      "metadata": {
        "id": "x344m1W-q-Gw"
      }
    },
    {
      "cell_type": "code",
      "source": [
        "i = 0\n",
        "k = 0\n",
        "xik3 = np.sum([x2[i,l] * V[l,k] for l in range(0, d)])\n",
        "print('x{}{}\\'\\' = {:.3f}'.format(i, k, xik3))"
      ],
      "metadata": {
        "colab": {
          "base_uri": "https://localhost:8080/"
        },
        "id": "iLSye-Syq91b",
        "outputId": "ae02d1d2-cdef-40be-f0bc-fa6f171a5872"
      },
      "execution_count": 21,
      "outputs": [
        {
          "output_type": "stream",
          "name": "stdout",
          "text": [
            "x00'' = 0.699\n"
          ]
        }
      ]
    },
    {
      "cell_type": "markdown",
      "source": [
        "### 12 各アイテムの次元削減後の特徴ベクトル"
      ],
      "metadata": {
        "id": "p1-Z6b9orRaI"
      }
    },
    {
      "cell_type": "code",
      "source": [
        "x3 = x2@V\n",
        "print('x\\'\\' = \\n{}'.format(x3))"
      ],
      "metadata": {
        "colab": {
          "base_uri": "https://localhost:8080/"
        },
        "id": "h9VWM_AjrTEl",
        "outputId": "b405789b-68e8-4fbc-dd2b-78cc8cbb0c55"
      },
      "execution_count": 22,
      "outputs": [
        {
          "output_type": "stream",
          "name": "stdout",
          "text": [
            "x'' = \n",
            "[[ 0.699  0.264]\n",
            " [-0.139  1.065]\n",
            " [ 0.752  1.355]\n",
            " [-2.564  0.202]\n",
            " [ 1.969 -0.636]\n",
            " [ 0.373 -1.211]\n",
            " [-2.035 -0.496]\n",
            " [ 1.219  0.656]\n",
            " [-0.545  1.766]\n",
            " [-1.788 -0.601]\n",
            " [ 1.598 -0.535]\n",
            " [-0.148 -1.603]\n",
            " [ 0.611 -0.227]]\n"
          ]
        }
      ]
    },
    {
      "cell_type": "markdown",
      "source": [
        "## 寄与率"
      ],
      "metadata": {
        "id": "xXSFeuqzrjg7"
      }
    },
    {
      "cell_type": "markdown",
      "source": [
        "### 13 第k主成分の寄与率"
      ],
      "metadata": {
        "id": "iPuAbl40rmq2"
      }
    },
    {
      "cell_type": "code",
      "source": [
        "k = 0\n",
        "pk = lmd[k] / np.sum([lmd[l] for l in range(0, d)])\n",
        "print('第{}主成分の寄与率 = {:.3f}'.format(k+1, pk))"
      ],
      "metadata": {
        "colab": {
          "base_uri": "https://localhost:8080/"
        },
        "id": "sHP1ighqrsyv",
        "outputId": "6f90f89c-cff3-4e99-a990-108d0fe986bf"
      },
      "execution_count": 23,
      "outputs": [
        {
          "output_type": "stream",
          "name": "stdout",
          "text": [
            "第1主成分の寄与率 = 0.609\n"
          ]
        }
      ]
    },
    {
      "cell_type": "markdown",
      "source": [
        "### 14 第k主成分までの累積寄与率"
      ],
      "metadata": {
        "id": "3-DKLWV4ryT6"
      }
    },
    {
      "cell_type": "code",
      "source": [
        "k = 2\n",
        "ck = np.sum([lmd[l] for l in range(0, k)]) / np.sum([lmd[l] for l in range(0, d)])\n",
        "print('第{}主成分までの累積寄与率 = {:.3f}'.format(k, ck))"
      ],
      "metadata": {
        "colab": {
          "base_uri": "https://localhost:8080/"
        },
        "id": "b_cks6MUrz1b",
        "outputId": "fe150b54-4153-43de-be49-3c3fbd0e341e"
      },
      "execution_count": 24,
      "outputs": [
        {
          "output_type": "stream",
          "name": "stdout",
          "text": [
            "第2主成分までの累積寄与率 = 0.917\n"
          ]
        }
      ]
    },
    {
      "cell_type": "markdown",
      "source": [
        "## 推薦"
      ],
      "metadata": {
        "id": "qyl76rlGr-7-"
      }
    },
    {
      "cell_type": "markdown",
      "source": [
        "### 15 次元削減後の評価履歴"
      ],
      "metadata": {
        "id": "KEfS_OT6sB8N"
      }
    },
    {
      "cell_type": "code",
      "source": [
        "Du2 = np.hstack([x3, ru.reshape((ru.size, 1))])\n",
        "print('Du\\' = \\n{}'.format(Du2))"
      ],
      "metadata": {
        "colab": {
          "base_uri": "https://localhost:8080/"
        },
        "id": "Qt1bAzHJsCzP",
        "outputId": "77b79c72-5338-4c1e-fdd9-fb0ca7cb9cba"
      },
      "execution_count": 25,
      "outputs": [
        {
          "output_type": "stream",
          "name": "stdout",
          "text": [
            "Du' = \n",
            "[[ 0.699  0.264  1.   ]\n",
            " [-0.139  1.065  1.   ]\n",
            " [ 0.752  1.355  1.   ]\n",
            " [-2.564  0.202 -1.   ]\n",
            " [ 1.969 -0.636 -1.   ]\n",
            " [ 0.373 -1.211 -1.   ]\n",
            " [-2.035 -0.496 -1.   ]\n",
            " [ 1.219  0.656    nan]\n",
            " [-0.545  1.766    nan]\n",
            " [-1.788 -0.601    nan]\n",
            " [ 1.598 -0.535    nan]\n",
            " [-0.148 -1.603    nan]\n",
            " [ 0.611 -0.227    nan]]\n"
          ]
        }
      ]
    },
    {
      "cell_type": "code",
      "source": [
        "Du2 = np.append(x3, ru.reshape((ru.size, 1)), axis=1)\n",
        "print('Du\\' = \\n{}'.format(Du2))"
      ],
      "metadata": {
        "colab": {
          "base_uri": "https://localhost:8080/"
        },
        "id": "4YaQz6zAsHL5",
        "outputId": "385fc89a-e67c-495c-8820-b836538e4b18"
      },
      "execution_count": 26,
      "outputs": [
        {
          "output_type": "stream",
          "name": "stdout",
          "text": [
            "Du' = \n",
            "[[ 0.699  0.264  1.   ]\n",
            " [-0.139  1.065  1.   ]\n",
            " [ 0.752  1.355  1.   ]\n",
            " [-2.564  0.202 -1.   ]\n",
            " [ 1.969 -0.636 -1.   ]\n",
            " [ 0.373 -1.211 -1.   ]\n",
            " [-2.035 -0.496 -1.   ]\n",
            " [ 1.219  0.656    nan]\n",
            " [-0.545  1.766    nan]\n",
            " [-1.788 -0.601    nan]\n",
            " [ 1.598 -0.535    nan]\n",
            " [-0.148 -1.603    nan]\n",
            " [ 0.611 -0.227    nan]]\n"
          ]
        }
      ]
    },
    {
      "cell_type": "code",
      "source": [
        "Du2 = np.concatenate([x3, ru.reshape((ru.size, 1))], axis=1)\n",
        "print('Du\\' = \\n{}'.format(Du2))"
      ],
      "metadata": {
        "colab": {
          "base_uri": "https://localhost:8080/"
        },
        "id": "2-eYiYOUsG9a",
        "outputId": "d0e334c2-2012-4647-aceb-f9e559e6ddd8"
      },
      "execution_count": 27,
      "outputs": [
        {
          "output_type": "stream",
          "name": "stdout",
          "text": [
            "Du' = \n",
            "[[ 0.699  0.264  1.   ]\n",
            " [-0.139  1.065  1.   ]\n",
            " [ 0.752  1.355  1.   ]\n",
            " [-2.564  0.202 -1.   ]\n",
            " [ 1.969 -0.636 -1.   ]\n",
            " [ 0.373 -1.211 -1.   ]\n",
            " [-2.035 -0.496 -1.   ]\n",
            " [ 1.219  0.656    nan]\n",
            " [-0.545  1.766    nan]\n",
            " [-1.788 -0.601    nan]\n",
            " [ 1.598 -0.535    nan]\n",
            " [-0.148 -1.603    nan]\n",
            " [ 0.611 -0.227    nan]]\n"
          ]
        }
      ]
    }
  ]
}