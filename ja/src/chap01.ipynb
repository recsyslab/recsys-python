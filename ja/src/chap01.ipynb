{
  "nbformat": 4,
  "nbformat_minor": 0,
  "metadata": {
    "colab": {
      "name": "01_rating_history.ipynb",
      "provenance": []
    },
    "kernelspec": {
      "name": "python3",
      "display_name": "Python 3"
    },
    "language_info": {
      "name": "python"
    }
  },
  "cells": [
    {
      "cell_type": "markdown",
      "source": [
        "# 第1章 評価履歴"
      ],
      "metadata": {
        "id": "H6syOXbM25mk"
      }
    },
    {
      "cell_type": "markdown",
      "source": [
        "## 準備"
      ],
      "metadata": {
        "id": "ItbV2bq93CdY"
      }
    },
    {
      "cell_type": "code",
      "execution_count": 1,
      "metadata": {
        "id": "jreK_RQs20ln"
      },
      "outputs": [],
      "source": [
        "import numpy as np"
      ]
    },
    {
      "cell_type": "markdown",
      "source": [
        "## 評価履歴"
      ],
      "metadata": {
        "id": "Mu1YsoSr3Xns"
      }
    },
    {
      "cell_type": "markdown",
      "source": [
        "### 01 評価履歴の生成"
      ],
      "metadata": {
        "id": "BELU9Y8W3rCU"
      }
    },
    {
      "cell_type": "code",
      "source": [
        "Du = np.array([\n",
        "          [5, 3, +1],\n",
        "          [6, 2, +1],\n",
        "          [4, 1, +1],\n",
        "          [8, 5, -1],\n",
        "          [2, 4, -1],\n",
        "          [3, 6, -1],\n",
        "          [7, 6, -1],\n",
        "          [4, 2, np.nan],\n",
        "          [5, 1, np.nan],\n",
        "          [8, 6, np.nan],\n",
        "          [3, 4, np.nan],\n",
        "          [4, 7, np.nan],\n",
        "          [4, 4, np.nan],\n",
        "])\n",
        "print('Du = \\n{}'.format(Du))"
      ],
      "metadata": {
        "colab": {
          "base_uri": "https://localhost:8080/"
        },
        "id": "EpGAau2J3vb9",
        "outputId": "644cab21-7d71-49e0-fc6d-821bb2dd54ac"
      },
      "execution_count": 2,
      "outputs": [
        {
          "output_type": "stream",
          "name": "stdout",
          "text": [
            "Du = \n",
            "[[ 5.  3.  1.]\n",
            " [ 6.  2.  1.]\n",
            " [ 4.  1.  1.]\n",
            " [ 8.  5. -1.]\n",
            " [ 2.  4. -1.]\n",
            " [ 3.  6. -1.]\n",
            " [ 7.  6. -1.]\n",
            " [ 4.  2. nan]\n",
            " [ 5.  1. nan]\n",
            " [ 8.  6. nan]\n",
            " [ 3.  4. nan]\n",
            " [ 4.  7. nan]\n",
            " [ 4.  4. nan]]\n"
          ]
        }
      ]
    },
    {
      "cell_type": "markdown",
      "source": [
        "### 02 評価履歴の形状"
      ],
      "metadata": {
        "id": "V8XT_TcVoEHp"
      }
    },
    {
      "cell_type": "code",
      "source": [
        "print('Duの形状 = {}'.format(Du.shape))"
      ],
      "metadata": {
        "colab": {
          "base_uri": "https://localhost:8080/"
        },
        "id": "UGew74NloJfs",
        "outputId": "a8180e5b-2a03-4b8c-81b0-629b8af4e47e"
      },
      "execution_count": 3,
      "outputs": [
        {
          "output_type": "stream",
          "name": "stdout",
          "text": [
            "Duの形状 = (13, 3)\n"
          ]
        }
      ]
    },
    {
      "cell_type": "markdown",
      "source": [
        "### 03 評価履歴の行数"
      ],
      "metadata": {
        "id": "_gVJ173VocdR"
      }
    },
    {
      "cell_type": "code",
      "source": [
        "print('Duの行数 = {}'.format(Du.shape[0]))"
      ],
      "metadata": {
        "colab": {
          "base_uri": "https://localhost:8080/"
        },
        "id": "BbUWvasCoemK",
        "outputId": "a97f25a7-b5e6-4a12-ae5a-a580b85c1549"
      },
      "execution_count": 4,
      "outputs": [
        {
          "output_type": "stream",
          "name": "stdout",
          "text": [
            "Duの行数 = 13\n"
          ]
        }
      ]
    },
    {
      "cell_type": "markdown",
      "source": [
        "### 04 評価履歴の列数"
      ],
      "metadata": {
        "id": "TxnsykE1ou4C"
      }
    },
    {
      "cell_type": "code",
      "source": [
        "print('Duの列数 = {}'.format(Du.shape[1]))"
      ],
      "metadata": {
        "colab": {
          "base_uri": "https://localhost:8080/"
        },
        "id": "vMtO1IB8oyFZ",
        "outputId": "26e43642-2522-4a40-ce50-e88bb79297c5"
      },
      "execution_count": 5,
      "outputs": [
        {
          "output_type": "stream",
          "name": "stdout",
          "text": [
            "Duの列数 = 3\n"
          ]
        }
      ]
    },
    {
      "cell_type": "markdown",
      "source": [
        "### 05 評価履歴の全要素数"
      ],
      "metadata": {
        "id": "qnf91hOVo7L6"
      }
    },
    {
      "cell_type": "code",
      "source": [
        "print('Duの全要素数 = {}'.format(Du.size))"
      ],
      "metadata": {
        "colab": {
          "base_uri": "https://localhost:8080/"
        },
        "id": "aNf8fJY5o9V0",
        "outputId": "856cdeea-c7b7-4b23-f08f-e5a764a409f8"
      },
      "execution_count": 6,
      "outputs": [
        {
          "output_type": "stream",
          "name": "stdout",
          "text": [
            "Duの全要素数 = 39\n"
          ]
        }
      ]
    },
    {
      "cell_type": "markdown",
      "source": [
        "## アイテム"
      ],
      "metadata": {
        "id": "YDVqTG2Xp-j3"
      }
    },
    {
      "cell_type": "markdown",
      "source": [
        "### 06 アイテム集合"
      ],
      "metadata": {
        "id": "CP-GeWPfqBCP"
      }
    },
    {
      "cell_type": "code",
      "source": [
        "I = np.arange(Du.shape[0])\n",
        "print('I = {}'.format(I))"
      ],
      "metadata": {
        "colab": {
          "base_uri": "https://localhost:8080/"
        },
        "id": "R5_Ws0qKqCwX",
        "outputId": "ac630b72-14fb-4a1a-d6e8-a191f681d3ff"
      },
      "execution_count": 7,
      "outputs": [
        {
          "output_type": "stream",
          "name": "stdout",
          "text": [
            "I = [ 0  1  2  3  4  5  6  7  8  9 10 11 12]\n"
          ]
        }
      ]
    },
    {
      "cell_type": "markdown",
      "source": [
        "### 07 アイテムの特徴ベクトルの集合"
      ],
      "metadata": {
        "id": "NmCW1emxqjTS"
      }
    },
    {
      "cell_type": "code",
      "source": [
        "x = Du[:,:-1]\n",
        "print('x = \\n{}'.format(x))"
      ],
      "metadata": {
        "colab": {
          "base_uri": "https://localhost:8080/"
        },
        "id": "95OLQerlqkUX",
        "outputId": "99234f7f-77bd-496e-96a6-91508b505d42"
      },
      "execution_count": 8,
      "outputs": [
        {
          "output_type": "stream",
          "name": "stdout",
          "text": [
            "x = \n",
            "[[5. 3.]\n",
            " [6. 2.]\n",
            " [4. 1.]\n",
            " [8. 5.]\n",
            " [2. 4.]\n",
            " [3. 6.]\n",
            " [7. 6.]\n",
            " [4. 2.]\n",
            " [5. 1.]\n",
            " [8. 6.]\n",
            " [3. 4.]\n",
            " [4. 7.]\n",
            " [4. 4.]]\n"
          ]
        }
      ]
    },
    {
      "cell_type": "markdown",
      "source": [
        "### 08 アイテムiの特徴ベクトル"
      ],
      "metadata": {
        "id": "CXVOaPA7riq5"
      }
    },
    {
      "cell_type": "code",
      "source": [
        "i = 0\n",
        "print('x{} = {}'.format(i, x[i]))"
      ],
      "metadata": {
        "colab": {
          "base_uri": "https://localhost:8080/"
        },
        "id": "YvsyB8mOrkDs",
        "outputId": "897dad93-f36c-4e2e-935f-0aebb4f7072a"
      },
      "execution_count": 9,
      "outputs": [
        {
          "output_type": "stream",
          "name": "stdout",
          "text": [
            "x0 = [5. 3.]\n"
          ]
        }
      ]
    },
    {
      "cell_type": "markdown",
      "source": [
        "## 評価値"
      ],
      "metadata": {
        "id": "t03lvU1UuMcA"
      }
    },
    {
      "cell_type": "markdown",
      "source": [
        "### 09 評価値集合"
      ],
      "metadata": {
        "id": "1iXo9-KGttYs"
      }
    },
    {
      "cell_type": "code",
      "source": [
        "ru = Du[:,-1]\n",
        "print('ru = {}'.format(ru))"
      ],
      "metadata": {
        "colab": {
          "base_uri": "https://localhost:8080/"
        },
        "id": "bOmiNXYft3pV",
        "outputId": "3d890b5d-eb57-4fe7-9a3c-9b0feebcb798"
      },
      "execution_count": 10,
      "outputs": [
        {
          "output_type": "stream",
          "name": "stdout",
          "text": [
            "ru = [ 1.  1.  1. -1. -1. -1. -1. nan nan nan nan nan nan]\n"
          ]
        }
      ]
    },
    {
      "cell_type": "markdown",
      "source": [
        "### 10 評価値集合の形状"
      ],
      "metadata": {
        "id": "NnUHeGnFLy22"
      }
    },
    {
      "cell_type": "code",
      "source": [
        "print('ruの形状 = {}'.format(ru.shape))"
      ],
      "metadata": {
        "colab": {
          "base_uri": "https://localhost:8080/"
        },
        "id": "3DRDU9P4L5YD",
        "outputId": "2e05524e-d94e-48cb-9cc6-7e9d62319b38"
      },
      "execution_count": 11,
      "outputs": [
        {
          "output_type": "stream",
          "name": "stdout",
          "text": [
            "ruの形状 = (13,)\n"
          ]
        }
      ]
    },
    {
      "cell_type": "markdown",
      "source": [
        "### 11 評価値集合の全要素数"
      ],
      "metadata": {
        "id": "bqyxkZtpMAkG"
      }
    },
    {
      "cell_type": "code",
      "source": [
        "print('ruの全要素数 = {}'.format(ru.size))"
      ],
      "metadata": {
        "colab": {
          "base_uri": "https://localhost:8080/"
        },
        "id": "CAjJNMXZMDB8",
        "outputId": "150af0e0-92c1-42cc-f4cb-381fcf7e55fb"
      },
      "execution_count": 12,
      "outputs": [
        {
          "output_type": "stream",
          "name": "stdout",
          "text": [
            "ruの全要素数 = 13\n"
          ]
        }
      ]
    },
    {
      "cell_type": "code",
      "source": [
        "print('ruの全要素数 = {}'.format(ru.shape[0]))"
      ],
      "metadata": {
        "colab": {
          "base_uri": "https://localhost:8080/"
        },
        "id": "XAFSYmmcMKO3",
        "outputId": "1bf21dde-02f9-4e1c-a6f7-50f672f57733"
      },
      "execution_count": 13,
      "outputs": [
        {
          "output_type": "stream",
          "name": "stdout",
          "text": [
            "ruの全要素数 = 13\n"
          ]
        }
      ]
    },
    {
      "cell_type": "markdown",
      "source": [
        "### 12 評価値集合の部分集合"
      ],
      "metadata": {
        "id": "PydJ-n_hMRCO"
      }
    },
    {
      "cell_type": "code",
      "source": [
        "i = 2\n",
        "j = 5\n",
        "print('ru{}からru{}までの評価値 = {}'.format(i, j-1, ru[i:j]))"
      ],
      "metadata": {
        "colab": {
          "base_uri": "https://localhost:8080/"
        },
        "id": "mv7P5tqVMTOI",
        "outputId": "fac3db77-df57-49a4-d83a-eb82e4dd31da"
      },
      "execution_count": 14,
      "outputs": [
        {
          "output_type": "stream",
          "name": "stdout",
          "text": [
            "ru2からru4までの評価値 = [ 1. -1. -1.]\n"
          ]
        }
      ]
    },
    {
      "cell_type": "markdown",
      "source": [
        "### 13 評価値集合の要素の逆順"
      ],
      "metadata": {
        "id": "al0YPXAmunom"
      }
    },
    {
      "cell_type": "code",
      "source": [
        "print('ruの逆順 = {}'.format(ru[::-1]))"
      ],
      "metadata": {
        "colab": {
          "base_uri": "https://localhost:8080/"
        },
        "id": "-kkpvBgz5oON",
        "outputId": "014f68b2-dab8-4afa-cfeb-dcf552ec023b"
      },
      "execution_count": 15,
      "outputs": [
        {
          "output_type": "stream",
          "name": "stdout",
          "text": [
            "ruの逆順 = [nan nan nan nan nan nan -1. -1. -1. -1.  1.  1.  1.]\n"
          ]
        }
      ]
    },
    {
      "cell_type": "markdown",
      "source": [
        "### 14 アイテムiに対する評価値"
      ],
      "metadata": {
        "id": "VU70CUzoMex4"
      }
    },
    {
      "cell_type": "code",
      "source": [
        "i = 0\n",
        "print('ru{} = {}'.format(i, ru[i]))"
      ],
      "metadata": {
        "colab": {
          "base_uri": "https://localhost:8080/"
        },
        "id": "UwKqbGRzMguh",
        "outputId": "b5a3983f-76e8-4727-990d-784b06d67a14"
      },
      "execution_count": 16,
      "outputs": [
        {
          "output_type": "stream",
          "name": "stdout",
          "text": [
            "ru0 = 1.0\n"
          ]
        }
      ]
    },
    {
      "cell_type": "markdown",
      "source": [
        "## アイテム集合"
      ],
      "metadata": {
        "id": "aqB9wZIJuUJP"
      }
    },
    {
      "cell_type": "markdown",
      "source": [
        "### 15 ユーザuが未評価であるか否かの判定"
      ],
      "metadata": {
        "id": "FRF88PRpuVrn"
      }
    },
    {
      "cell_type": "code",
      "source": [
        "print('ユーザuが未評価 = {}'.format(np.isnan(ru)))"
      ],
      "metadata": {
        "colab": {
          "base_uri": "https://localhost:8080/"
        },
        "id": "LmceXbCT7XL2",
        "outputId": "2da00834-0094-4d5c-9590-32906bce957a"
      },
      "execution_count": 17,
      "outputs": [
        {
          "output_type": "stream",
          "name": "stdout",
          "text": [
            "ユーザuが未評価 = [False False False False False False False  True  True  True  True  True\n",
            "  True]\n"
          ]
        }
      ]
    },
    {
      "cell_type": "markdown",
      "source": [
        "### 16 ユーザが評価済みであるか否かの判定"
      ],
      "metadata": {
        "id": "yIMLxtF5uffy"
      }
    },
    {
      "cell_type": "code",
      "source": [
        "print('ユーザuが評価済み = {}'.format(~np.isnan(ru)))"
      ],
      "metadata": {
        "colab": {
          "base_uri": "https://localhost:8080/"
        },
        "id": "ihd03QzX8brU",
        "outputId": "0419720c-cb59-4f62-d04f-29b15e78a897"
      },
      "execution_count": 18,
      "outputs": [
        {
          "output_type": "stream",
          "name": "stdout",
          "text": [
            "ユーザuが評価済み = [ True  True  True  True  True  True  True False False False False False\n",
            " False]\n"
          ]
        }
      ]
    },
    {
      "cell_type": "markdown",
      "source": [
        "### 17 ユーザuが評価済みのアイテム集合"
      ],
      "metadata": {
        "id": "gs7oY0gSukg6"
      }
    },
    {
      "cell_type": "code",
      "source": [
        "Iu = I[~np.isnan(ru)]\n",
        "print('Iu = {}'.format(Iu))"
      ],
      "metadata": {
        "colab": {
          "base_uri": "https://localhost:8080/"
        },
        "id": "VyQP-o5I9BPx",
        "outputId": "275c0ab2-23b3-46c3-be22-b1eba62dd75f"
      },
      "execution_count": 19,
      "outputs": [
        {
          "output_type": "stream",
          "name": "stdout",
          "text": [
            "Iu = [0 1 2 3 4 5 6]\n"
          ]
        }
      ]
    },
    {
      "cell_type": "markdown",
      "source": [
        "### 18 ユーザuが「好き」と評価したアイテム集合"
      ],
      "metadata": {
        "id": "OwAmulJWM7Pa"
      }
    },
    {
      "cell_type": "code",
      "source": [
        "Iup = I[ru==+1]\n",
        "print('Iu+ = {}'.format(Iup))"
      ],
      "metadata": {
        "colab": {
          "base_uri": "https://localhost:8080/"
        },
        "id": "FyBdKSnSM9iM",
        "outputId": "86ccd047-3a4e-4c2c-c0e8-b0e804d2cd2b"
      },
      "execution_count": 20,
      "outputs": [
        {
          "output_type": "stream",
          "name": "stdout",
          "text": [
            "Iu+ = [0 1 2]\n"
          ]
        }
      ]
    },
    {
      "cell_type": "markdown",
      "source": [
        "### 19 ユーザuが「嫌い」と評価したアイテム集合"
      ],
      "metadata": {
        "id": "lc-slik2NBUt"
      }
    },
    {
      "cell_type": "code",
      "source": [
        "Iun = I[ru==-1]\n",
        "print('Iu- = {}'.format(Iun))"
      ],
      "metadata": {
        "colab": {
          "base_uri": "https://localhost:8080/"
        },
        "id": "YIpmwD58NEIW",
        "outputId": "69da8e7a-7114-4189-f54b-96e19b3f5036"
      },
      "execution_count": 21,
      "outputs": [
        {
          "output_type": "stream",
          "name": "stdout",
          "text": [
            "Iu- = [3 4 5 6]\n"
          ]
        }
      ]
    },
    {
      "cell_type": "markdown",
      "source": [
        "### 20 ユーザuが未評価のアイテム集合"
      ],
      "metadata": {
        "id": "VNgPcgZOu3Dc"
      }
    },
    {
      "cell_type": "code",
      "source": [
        "#Iu_not = I[np.isnan(ru)]\n",
        "Iu_not = np.setdiff1d(I, Iu)\n",
        "print('Iu_not = {}'.format(Iu_not))"
      ],
      "metadata": {
        "colab": {
          "base_uri": "https://localhost:8080/"
        },
        "id": "JIhr7s0_-Qfc",
        "outputId": "8546029e-166c-425b-d23d-e1f90fae9298"
      },
      "execution_count": 22,
      "outputs": [
        {
          "output_type": "stream",
          "name": "stdout",
          "text": [
            "Iu_not = [ 7  8  9 10 11 12]\n"
          ]
        }
      ]
    },
    {
      "cell_type": "markdown",
      "source": [
        "## 訓練データと予測対象データ"
      ],
      "metadata": {
        "id": "ISZTrmVjNK0R"
      }
    },
    {
      "cell_type": "markdown",
      "source": [
        "### 21 訓練データ"
      ],
      "metadata": {
        "id": "dYJN-298NM9L"
      }
    },
    {
      "cell_type": "code",
      "source": [
        "DuL = Du[Iu]\n",
        "print('DuL = \\n{}'.format(DuL))"
      ],
      "metadata": {
        "colab": {
          "base_uri": "https://localhost:8080/"
        },
        "id": "vL6k9UatNPKL",
        "outputId": "aa8da512-3f0f-4502-84d5-15ef23c34909"
      },
      "execution_count": 23,
      "outputs": [
        {
          "output_type": "stream",
          "name": "stdout",
          "text": [
            "DuL = \n",
            "[[ 5.  3.  1.]\n",
            " [ 6.  2.  1.]\n",
            " [ 4.  1.  1.]\n",
            " [ 8.  5. -1.]\n",
            " [ 2.  4. -1.]\n",
            " [ 3.  6. -1.]\n",
            " [ 7.  6. -1.]]\n"
          ]
        }
      ]
    },
    {
      "cell_type": "markdown",
      "source": [
        "### 22 訓練事例数"
      ],
      "metadata": {
        "id": "s-z6N45-NT6A"
      }
    },
    {
      "cell_type": "code",
      "source": [
        "print('|DuL| = {}'.format(DuL.shape[0]))"
      ],
      "metadata": {
        "colab": {
          "base_uri": "https://localhost:8080/"
        },
        "id": "sDSFBcS2NXuZ",
        "outputId": "f0efcc7c-6ba1-4f14-a32e-f94a061879c3"
      },
      "execution_count": 24,
      "outputs": [
        {
          "output_type": "stream",
          "name": "stdout",
          "text": [
            "|DuL| = 7\n"
          ]
        }
      ]
    },
    {
      "cell_type": "markdown",
      "source": [
        "### 23 正事例数"
      ],
      "metadata": {
        "id": "tx-aKmpzNcPf"
      }
    },
    {
      "cell_type": "code",
      "source": [
        "print('|DuL+| = {}'.format(DuL[ru[Iu]==+1].shape[0]))"
      ],
      "metadata": {
        "colab": {
          "base_uri": "https://localhost:8080/"
        },
        "id": "XmMNf8P5Nd-h",
        "outputId": "2774c622-e0df-4df6-ac60-133517abac88"
      },
      "execution_count": 25,
      "outputs": [
        {
          "output_type": "stream",
          "name": "stdout",
          "text": [
            "|DuL+| = 3\n"
          ]
        }
      ]
    },
    {
      "cell_type": "markdown",
      "source": [
        "### 24 負事例数"
      ],
      "metadata": {
        "id": "e2EnbYDQNrm8"
      }
    },
    {
      "cell_type": "code",
      "source": [
        "print('|DuL-| = {}'.format(DuL[ru[Iu]==-1].shape[0]))"
      ],
      "metadata": {
        "colab": {
          "base_uri": "https://localhost:8080/"
        },
        "id": "yKk31PKvNtxa",
        "outputId": "6945fa35-1142-408d-b75e-7a3348bb61c7"
      },
      "execution_count": 26,
      "outputs": [
        {
          "output_type": "stream",
          "name": "stdout",
          "text": [
            "|DuL-| = 4\n"
          ]
        }
      ]
    },
    {
      "cell_type": "markdown",
      "source": [
        "### 25 予測対象データ"
      ],
      "metadata": {
        "id": "eWnBUmSJNziU"
      }
    },
    {
      "cell_type": "code",
      "source": [
        "DuU = Du[Iu_not]\n",
        "print('DuU = \\n{}'.format(DuU))"
      ],
      "metadata": {
        "colab": {
          "base_uri": "https://localhost:8080/"
        },
        "id": "LUOMC5ooN1Ba",
        "outputId": "7791a651-eccb-4154-d992-77bd629b70ea"
      },
      "execution_count": 27,
      "outputs": [
        {
          "output_type": "stream",
          "name": "stdout",
          "text": [
            "DuU = \n",
            "[[ 4.  2. nan]\n",
            " [ 5.  1. nan]\n",
            " [ 8.  6. nan]\n",
            " [ 3.  4. nan]\n",
            " [ 4.  7. nan]\n",
            " [ 4.  4. nan]]\n"
          ]
        }
      ]
    },
    {
      "cell_type": "markdown",
      "source": [
        "### 26 予測対象事例数"
      ],
      "metadata": {
        "id": "ZKfP9KGSN4tZ"
      }
    },
    {
      "cell_type": "code",
      "source": [
        "print('|DuU| = {}'.format(DuU.shape[0]))"
      ],
      "metadata": {
        "colab": {
          "base_uri": "https://localhost:8080/"
        },
        "id": "fFGc_d1IN6tZ",
        "outputId": "267c6212-159c-4abb-ea27-49aa7eac0495"
      },
      "execution_count": 28,
      "outputs": [
        {
          "output_type": "stream",
          "name": "stdout",
          "text": [
            "|DuU| = 6\n"
          ]
        }
      ]
    }
  ]
}
