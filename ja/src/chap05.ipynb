{
  "nbformat": 4,
  "nbformat_minor": 0,
  "metadata": {
    "colab": {
      "name": "chap05.ipynb",
      "provenance": []
    },
    "kernelspec": {
      "name": "python3",
      "display_name": "Python 3"
    },
    "language_info": {
      "name": "python"
    }
  },
  "cells": [
    {
      "cell_type": "markdown",
      "source": [
        "# 第5章 ユーザベース協調フィルタリング"
      ],
      "metadata": {
        "id": "iU_L59qarEUZ"
      }
    },
    {
      "cell_type": "markdown",
      "source": [
        "## 準備"
      ],
      "metadata": {
        "id": "Eaqafp6QrQiZ"
      }
    },
    {
      "cell_type": "code",
      "execution_count": 1,
      "metadata": {
        "id": "ZNI9nZhpq8Yc"
      },
      "outputs": [],
      "source": [
        "import pprint\n",
        "import numpy as np\n",
        "np.set_printoptions(precision=3)\n",
        "\n",
        "# 近傍ユーザ数\n",
        "K_USERS = 3\n",
        "# 閾値\n",
        "THETA = 0\n",
        "\n",
        "R = np.array([\n",
        "              [np.nan, 4,      3,      1,      2,      np.nan],\n",
        "              [5,      5,      4,      np.nan, 3,      3     ],\n",
        "              [4,      np.nan, 5,      3,      2,      np.nan],\n",
        "              [np.nan, 3,      np.nan, 2,      1,      1     ],\n",
        "              [2,      1,      2,      4,      np.nan, 3     ],\n",
        "])\n",
        "U = np.arange(R.shape[0])\n",
        "I = np.arange(R.shape[1])\n",
        "Ui = [U[~np.isnan(R)[:,i]] for i in I]\n",
        "Iu = [I[~np.isnan(R)[u,:]] for u in U]\n",
        "ru_mean = np.nanmean(R, axis=1)\n",
        "R2 = R - ru_mean.reshape((ru_mean.size, 1))"
      ]
    },
    {
      "cell_type": "markdown",
      "source": [
        "## ピアソンの相関係数"
      ],
      "metadata": {
        "id": "WhMfJxEmrY0g"
      }
    },
    {
      "cell_type": "markdown",
      "source": [
        "### 01 ピアソンの相関係数（分子）\n",
        "### 02 ピアソンの相関係数の算出（分母左部）\n",
        "### 03 ピアソンの相関係数の算出（分母右部）"
      ],
      "metadata": {
        "id": "QQMp_JPjrbGK"
      }
    },
    {
      "cell_type": "code",
      "source": [
        "def pearson1(u, v):\n",
        "    \"\"\"\n",
        "    評価値行列Rにおけるユーザuとユーザvのピアソンの相関係数を返す。\n",
        "\n",
        "    Parameters\n",
        "    ----------\n",
        "    u : int\n",
        "        ユーザuのID\n",
        "    v : int\n",
        "        ユーザvのID\n",
        "\n",
        "    Returns\n",
        "    -------\n",
        "    float\n",
        "        ピアソンの相関係数\n",
        "    \"\"\"\n",
        "    Iuv = np.intersect1d(Iu[u], Iu[v])\n",
        "\n",
        "    # 01\n",
        "    num = np.sum([(R[u,i] - ru_mean[u]) * (R[v,i] - ru_mean[v]) for i in Iuv])\n",
        "    print('num = {}'.format(num))\n",
        "    # 02\n",
        "    den_u = np.sqrt(np.sum([(R[u,i] - ru_mean[u])**2 for i in Iuv]))\n",
        "    print('den_u = {:.3f}'.format(den_u))\n",
        "    # 03\n",
        "    den_v = np.sqrt(np.sum([(R[v,i] - ru_mean[v])**2 for i in Iuv]))\n",
        "    print('den_v = {:.3f}'.format(den_v))\n",
        "    \n",
        "    prsn = num / (den_u * den_v)\n",
        "    return prsn"
      ],
      "metadata": {
        "id": "jigU683Hr497"
      },
      "execution_count": 2,
      "outputs": []
    },
    {
      "cell_type": "code",
      "source": [
        "u = 0\n",
        "v = 1\n",
        "prsn = pearson1(u, v)\n",
        "print('pearson1({}, {}) = {:.3f}'.format(u, v, prsn))"
      ],
      "metadata": {
        "colab": {
          "base_uri": "https://localhost:8080/"
        },
        "id": "WOStPNX9slwQ",
        "outputId": "fac945d2-5f43-4880-fab5-1b664a8283af"
      },
      "execution_count": 3,
      "outputs": [
        {
          "output_type": "stream",
          "name": "stdout",
          "text": [
            "num = 2.0\n",
            "den_u = 1.658\n",
            "den_v = 1.414\n",
            "pearson1(0, 1) = 0.853\n"
          ]
        }
      ]
    },
    {
      "cell_type": "markdown",
      "source": [
        "## 平均中心化評価値行列に基づくピアソンの相関係数"
      ],
      "metadata": {
        "id": "s-ZZzgQ_tKrx"
      }
    },
    {
      "cell_type": "markdown",
      "source": [
        "### 04 ピアソンの相関係数（分子）\n",
        "### 05 ピアソンの相関係数の算出（分母左部）\n",
        "### 06 ピアソンの相関係数の算出（分母右部）"
      ],
      "metadata": {
        "id": "WWMtwhKvtSY8"
      }
    },
    {
      "cell_type": "code",
      "source": [
        "def pearson2(u, v):\n",
        "    \"\"\"\n",
        "    平均中心化評価値行列R2におけるユーザuとユーザvのピアソンの相関係数を返す。\n",
        "\n",
        "    Parameters\n",
        "    ----------\n",
        "    u : int\n",
        "        ユーザuのID\n",
        "    v : int\n",
        "        ユーザvのID\n",
        "\n",
        "    Returns\n",
        "    -------\n",
        "    float\n",
        "        ピアソンの相関係数\n",
        "    \"\"\"\n",
        "    Iuv = np.intersect1d(Iu[u], Iu[v])\n",
        "    \n",
        "    # 04\n",
        "    num = np.sum([R2[u,i] * R2[v,i] for i in Iuv])\n",
        "    print('num = {}'.format(num))\n",
        "    # 05\n",
        "    den_u = np.sqrt(np.sum([R2[u,i]**2 for i in Iuv]))\n",
        "    print('den_u = {:.3f}'.format(den_u))\n",
        "    # 06\n",
        "    den_v = np.sqrt(np.sum([R2[v,i]**2 for i in Iuv]))\n",
        "    print('den_v = {:.3f}'.format(den_v))\n",
        "\n",
        "    prsn = num / (den_u * den_v)\n",
        "    return prsn"
      ],
      "metadata": {
        "id": "3NIOdJQHuf2D"
      },
      "execution_count": 4,
      "outputs": []
    },
    {
      "cell_type": "code",
      "source": [
        "u = 0\n",
        "v = 1\n",
        "prsn = pearson2(u, v)\n",
        "print('pearson2({}, {}) = {:.3f}'.format(u, v, prsn))"
      ],
      "metadata": {
        "colab": {
          "base_uri": "https://localhost:8080/"
        },
        "id": "eXDN7A5ZvSGQ",
        "outputId": "913cee53-3a82-4f9c-e2cc-c65e3a3344a2"
      },
      "execution_count": 5,
      "outputs": [
        {
          "output_type": "stream",
          "name": "stdout",
          "text": [
            "num = 2.0\n",
            "den_u = 1.658\n",
            "den_v = 1.414\n",
            "pearson2(0, 1) = 0.853\n"
          ]
        }
      ]
    },
    {
      "cell_type": "markdown",
      "source": [
        "## ユーザ-ユーザ類似度行列"
      ],
      "metadata": {
        "id": "U_gdg7_g7lHv"
      }
    },
    {
      "cell_type": "code",
      "source": [
        "def sim(u, v):\n",
        "    \"\"\"\n",
        "    ユーザ類似度関数：ユーザuとユーザvのユーザ類似度を返す。\n",
        "\n",
        "    Parameters\n",
        "    ----------\n",
        "    u : int\n",
        "        ユーザuのID\n",
        "    v : int\n",
        "        ユーザvのID\n",
        "\n",
        "    Returns\n",
        "    -------\n",
        "    float\n",
        "        ユーザ類似度\n",
        "    \"\"\"\n",
        "    return pearson2(u, v)"
      ],
      "metadata": {
        "id": "U5J5A6WR8WZY"
      },
      "execution_count": 6,
      "outputs": []
    },
    {
      "cell_type": "markdown",
      "source": [
        "### 07 ユーザ-ユーザ類似度行列"
      ],
      "metadata": {
        "id": "cbBpCUGe7pX8"
      }
    },
    {
      "cell_type": "code",
      "source": [
        "S = np.zeros((U.size, U.size))\n",
        "for u in U:\n",
        "    for v in U:\n",
        "        S[u,v] = sim(u, v)\n",
        "print('S = \\n{}'.format(S))"
      ],
      "metadata": {
        "colab": {
          "base_uri": "https://localhost:8080/"
        },
        "id": "ckxwqL-C7rUH",
        "outputId": "8497fdbd-29eb-40ea-c45f-514a0094e672"
      },
      "execution_count": 7,
      "outputs": [
        {
          "output_type": "stream",
          "name": "stdout",
          "text": [
            "num = 5.0\n",
            "den_u = 2.236\n",
            "den_v = 2.236\n",
            "num = 2.0\n",
            "den_u = 1.658\n",
            "den_v = 1.414\n",
            "num = 2.25\n",
            "den_u = 1.658\n",
            "den_v = 2.179\n",
            "num = 1.875\n",
            "den_u = 2.179\n",
            "den_v = 1.479\n",
            "num = -4.7\n",
            "den_u = 2.179\n",
            "den_v = 2.163\n",
            "num = 2.0\n",
            "den_u = 1.414\n",
            "den_v = 1.658\n",
            "num = 4.0\n",
            "den_u = 2.000\n",
            "den_v = 2.000\n",
            "num = 2.0\n",
            "den_u = 1.414\n",
            "den_v = 2.179\n",
            "num = 2.75\n",
            "den_u = 1.732\n",
            "den_v = 1.639\n",
            "num = -2.4\n",
            "den_u = 1.732\n",
            "den_v = 1.625\n",
            "num = 2.25\n",
            "den_u = 2.179\n",
            "den_v = 1.658\n",
            "num = 2.0\n",
            "den_u = 2.179\n",
            "den_v = 1.414\n",
            "num = 5.0\n",
            "den_u = 2.236\n",
            "den_v = 2.236\n",
            "num = 1.0\n",
            "den_u = 1.581\n",
            "den_v = 0.791\n",
            "num = -1.5999999999999999\n",
            "den_u = 1.658\n",
            "den_v = 1.697\n",
            "num = 1.875\n",
            "den_u = 1.479\n",
            "den_v = 2.179\n",
            "num = 2.75\n",
            "den_u = 1.639\n",
            "den_v = 1.732\n",
            "num = 1.0\n",
            "den_u = 0.791\n",
            "den_v = 1.581\n",
            "num = 2.75\n",
            "den_u = 1.658\n",
            "den_v = 1.658\n",
            "num = -1.8000000000000003\n",
            "den_u = 1.479\n",
            "den_v = 2.209\n",
            "num = -4.7\n",
            "den_u = 2.163\n",
            "den_v = 2.179\n",
            "num = -2.4\n",
            "den_u = 1.625\n",
            "den_v = 1.732\n",
            "num = -1.5999999999999999\n",
            "den_u = 1.697\n",
            "den_v = 1.658\n",
            "num = -1.8000000000000003\n",
            "den_u = 2.209\n",
            "den_v = 1.479\n",
            "num = 5.2\n",
            "den_u = 2.280\n",
            "den_v = 2.280\n",
            "S = \n",
            "[[ 1.     0.853  0.623  0.582 -0.997]\n",
            " [ 0.853  1.     0.649  0.968 -0.853]\n",
            " [ 0.623  0.649  1.     0.8   -0.569]\n",
            " [ 0.582  0.968  0.8    1.    -0.551]\n",
            " [-0.997 -0.853 -0.569 -0.551  1.   ]]\n"
          ]
        }
      ]
    },
    {
      "cell_type": "code",
      "source": [
        "S = np.array([[sim(u, v) for v in U] for u in U])\n",
        "print('S = \\n{}'.format(S))"
      ],
      "metadata": {
        "colab": {
          "base_uri": "https://localhost:8080/"
        },
        "id": "OW7hHFjb8gau",
        "outputId": "693fd0cf-b9fa-4a64-9c64-31255abf87b8"
      },
      "execution_count": 8,
      "outputs": [
        {
          "output_type": "stream",
          "name": "stdout",
          "text": [
            "num = 5.0\n",
            "den_u = 2.236\n",
            "den_v = 2.236\n",
            "num = 2.0\n",
            "den_u = 1.658\n",
            "den_v = 1.414\n",
            "num = 2.25\n",
            "den_u = 1.658\n",
            "den_v = 2.179\n",
            "num = 1.875\n",
            "den_u = 2.179\n",
            "den_v = 1.479\n",
            "num = -4.7\n",
            "den_u = 2.179\n",
            "den_v = 2.163\n",
            "num = 2.0\n",
            "den_u = 1.414\n",
            "den_v = 1.658\n",
            "num = 4.0\n",
            "den_u = 2.000\n",
            "den_v = 2.000\n",
            "num = 2.0\n",
            "den_u = 1.414\n",
            "den_v = 2.179\n",
            "num = 2.75\n",
            "den_u = 1.732\n",
            "den_v = 1.639\n",
            "num = -2.4\n",
            "den_u = 1.732\n",
            "den_v = 1.625\n",
            "num = 2.25\n",
            "den_u = 2.179\n",
            "den_v = 1.658\n",
            "num = 2.0\n",
            "den_u = 2.179\n",
            "den_v = 1.414\n",
            "num = 5.0\n",
            "den_u = 2.236\n",
            "den_v = 2.236\n",
            "num = 1.0\n",
            "den_u = 1.581\n",
            "den_v = 0.791\n",
            "num = -1.5999999999999999\n",
            "den_u = 1.658\n",
            "den_v = 1.697\n",
            "num = 1.875\n",
            "den_u = 1.479\n",
            "den_v = 2.179\n",
            "num = 2.75\n",
            "den_u = 1.639\n",
            "den_v = 1.732\n",
            "num = 1.0\n",
            "den_u = 0.791\n",
            "den_v = 1.581\n",
            "num = 2.75\n",
            "den_u = 1.658\n",
            "den_v = 1.658\n",
            "num = -1.8000000000000003\n",
            "den_u = 1.479\n",
            "den_v = 2.209\n",
            "num = -4.7\n",
            "den_u = 2.163\n",
            "den_v = 2.179\n",
            "num = -2.4\n",
            "den_u = 1.625\n",
            "den_v = 1.732\n",
            "num = -1.5999999999999999\n",
            "den_u = 1.697\n",
            "den_v = 1.658\n",
            "num = -1.8000000000000003\n",
            "den_u = 2.209\n",
            "den_v = 1.479\n",
            "num = 5.2\n",
            "den_u = 2.280\n",
            "den_v = 2.280\n",
            "S = \n",
            "[[ 1.     0.853  0.623  0.582 -0.997]\n",
            " [ 0.853  1.     0.649  0.968 -0.853]\n",
            " [ 0.623  0.649  1.     0.8   -0.569]\n",
            " [ 0.582  0.968  0.8    1.    -0.551]\n",
            " [-0.997 -0.853 -0.569 -0.551  1.   ]]\n"
          ]
        }
      ]
    },
    {
      "cell_type": "markdown",
      "source": [
        "## 類似ユーザの選定"
      ],
      "metadata": {
        "id": "diR53JQr84Sn"
      }
    },
    {
      "cell_type": "markdown",
      "source": [
        "### 08 類似度上位k人のユーザ集合\n",
        "### 09 類似度がしきい値以上のユーザ集合"
      ],
      "metadata": {
        "id": "TwE_EILr9FmP"
      }
    },
    {
      "cell_type": "code",
      "source": [
        "# ユーザ-ユーザ類似度行列から対象ユーザを除外した辞書\n",
        "Uu = {u: {v: S[u,v] for v in U if u!=v} for u in U}\n",
        "print('Uu = ')\n",
        "pprint.pprint(Uu)\n",
        "# 08\n",
        "Uu = {u: dict(sorted(Uu[u].items(), key=lambda x:x[1], reverse=True)[:K_USERS]) for u in U}\n",
        "print('Uu = ')\n",
        "pprint.pprint(Uu)\n",
        "# 09\n",
        "Uu = {u: {v:s for v,s in Uu[u].items() if s >= THETA} for u in U}\n",
        "print('Uu = ')\n",
        "pprint.pprint(Uu)\n",
        "# 各ユーザの類似ユーザ集合をまとめた辞書\n",
        "Uu = {u: np.array(list(Uu[u].keys())) for u in U}\n",
        "print('Uu = ')\n",
        "pprint.pprint(Uu)"
      ],
      "metadata": {
        "colab": {
          "base_uri": "https://localhost:8080/"
        },
        "id": "CXNToJId9CMV",
        "outputId": "b2d6a67b-9601-4780-81a1-bee27ce011dc"
      },
      "execution_count": 9,
      "outputs": [
        {
          "output_type": "stream",
          "name": "stdout",
          "text": [
            "Uu = \n",
            "{0: {1: 0.8528028654224417,\n",
            "     2: 0.6225430174794672,\n",
            "     3: 0.5816750507471109,\n",
            "     4: -0.9968461286620518},\n",
            " 1: {0: 0.8528028654224417,\n",
            "     2: 0.6488856845230501,\n",
            "     3: 0.9684959969581863,\n",
            "     4: -0.8528028654224418},\n",
            " 2: {0: 0.6225430174794672,\n",
            "     1: 0.6488856845230501,\n",
            "     3: 0.7999999999999998,\n",
            "     4: -0.5685352436149611},\n",
            " 3: {0: 0.5816750507471109,\n",
            "     1: 0.9684959969581863,\n",
            "     2: 0.7999999999999998,\n",
            "     4: -0.550920031004556},\n",
            " 4: {0: -0.9968461286620518,\n",
            "     1: -0.8528028654224418,\n",
            "     2: -0.5685352436149611,\n",
            "     3: -0.550920031004556}}\n",
            "Uu = \n",
            "{0: {1: 0.8528028654224417, 2: 0.6225430174794672, 3: 0.5816750507471109},\n",
            " 1: {0: 0.8528028654224417, 2: 0.6488856845230501, 3: 0.9684959969581863},\n",
            " 2: {0: 0.6225430174794672, 1: 0.6488856845230501, 3: 0.7999999999999998},\n",
            " 3: {0: 0.5816750507471109, 1: 0.9684959969581863, 2: 0.7999999999999998},\n",
            " 4: {1: -0.8528028654224418, 2: -0.5685352436149611, 3: -0.550920031004556}}\n",
            "Uu = \n",
            "{0: {1: 0.8528028654224417, 2: 0.6225430174794672, 3: 0.5816750507471109},\n",
            " 1: {0: 0.8528028654224417, 2: 0.6488856845230501, 3: 0.9684959969581863},\n",
            " 2: {0: 0.6225430174794672, 1: 0.6488856845230501, 3: 0.7999999999999998},\n",
            " 3: {0: 0.5816750507471109, 1: 0.9684959969581863, 2: 0.7999999999999998},\n",
            " 4: {}}\n",
            "Uu = \n",
            "{0: array([1, 2, 3]),\n",
            " 1: array([3, 0, 2]),\n",
            " 2: array([3, 1, 0]),\n",
            " 3: array([1, 2, 0]),\n",
            " 4: array([], dtype=float64)}\n"
          ]
        }
      ]
    },
    {
      "cell_type": "markdown",
      "source": [
        "## 嗜好予測"
      ],
      "metadata": {
        "id": "61fZxl7P9bYV"
      }
    },
    {
      "cell_type": "markdown",
      "source": [
        "### 10 類似ユーザ集合の中でアイテムiを評価済みのユーザ集合\n",
        "### 11 予測評価値"
      ],
      "metadata": {
        "id": "oY_MRnMN-JH2"
      }
    },
    {
      "cell_type": "code",
      "source": [
        "def predict(u, i):\n",
        "    \"\"\"\n",
        "    予測関数：ユーザuのアイテムiに対する予測評価値を返す。\n",
        "\n",
        "    Parameters\n",
        "    ----------\n",
        "    u : int\n",
        "        ユーザuのID\n",
        "    i : int\n",
        "        アイテムiのID\n",
        "\n",
        "    Returns\n",
        "    -------\n",
        "    float\n",
        "        ユーザuのアイテムiに対する予測評価値\n",
        "    \"\"\"\n",
        "    # 10\n",
        "    Uui = np.intersect1d(Ui[i], Uu[u])\n",
        "    print('U{}{} = {}'.format(u, i, Uui))\n",
        "\n",
        "    if Uui.size <= 0: return ru_mean[u]\n",
        "    # 11\n",
        "    num = np.sum([(S[u,v] * R2[v,i]) for v in Uui])\n",
        "    den = np.sum([np.abs(S[u,v]) for v in Uui])\n",
        "    rui_pred = ru_mean[u] + num / den\n",
        "    \n",
        "    return rui_pred"
      ],
      "metadata": {
        "id": "8b22zpXz-O0C"
      },
      "execution_count": 10,
      "outputs": []
    },
    {
      "cell_type": "code",
      "source": [
        "u = 0\n",
        "i = 0\n",
        "print('r{}{} = {:.3f}'.format(u, i, predict(u, i)))\n",
        "u = 0\n",
        "i = 5\n",
        "print('r{}{} = {:.3f}'.format(u, i, predict(u, i)))"
      ],
      "metadata": {
        "colab": {
          "base_uri": "https://localhost:8080/"
        },
        "id": "jeXcfidI-a0V",
        "outputId": "e8309e89-791c-4dd4-8a63-f74ddbc743d2"
      },
      "execution_count": 11,
      "outputs": [
        {
          "output_type": "stream",
          "name": "stdout",
          "text": [
            "U00 = [1 2]\n",
            "r00 = 3.289\n",
            "U05 = [1 3]\n",
            "r05 = 1.601\n"
          ]
        }
      ]
    },
    {
      "cell_type": "markdown",
      "source": [
        "## 評価値行列の補完"
      ],
      "metadata": {
        "id": "DiN0Ptp__WaR"
      }
    },
    {
      "cell_type": "markdown",
      "source": [
        "### 12 評価値行列の補完"
      ],
      "metadata": {
        "id": "5PV0L7Ra_aAm"
      }
    },
    {
      "cell_type": "code",
      "source": [
        "R3 = R.copy()\n",
        "for u in U:\n",
        "    for i in I:\n",
        "        if ~np.isnan(R[u,i]): continue\n",
        "        R3[u,i] = predict(u, i)\n",
        "print('R\\'\\' = \\n{}'.format(R3))"
      ],
      "metadata": {
        "colab": {
          "base_uri": "https://localhost:8080/"
        },
        "id": "tFwSVSmGAONU",
        "outputId": "2f2854a0-c068-4d54-bf31-51a657723ed7"
      },
      "execution_count": 12,
      "outputs": [
        {
          "output_type": "stream",
          "name": "stdout",
          "text": [
            "U00 = [1 2]\n",
            "U05 = [1 3]\n",
            "U13 = [0 2 3]\n",
            "U21 = [0 1 3]\n",
            "U25 = [1 3]\n",
            "U30 = [1 2]\n",
            "U32 = [0 1 2]\n",
            "U44 = []\n",
            "R'' = \n",
            "[[3.289 4.    3.    1.    2.    1.601]\n",
            " [5.    5.    4.    3.449 3.    3.   ]\n",
            " [4.    4.747 5.    3.    2.    2.638]\n",
            " [2.524 3.    2.384 2.    1.    1.   ]\n",
            " [2.    1.    2.    4.    2.4   3.   ]]\n"
          ]
        }
      ]
    },
    {
      "cell_type": "code",
      "source": [
        "R3 = np.array([[predict(u, i) if np.isnan(R[u,i]) else R[u,i] for i in I] for u in U])\n",
        "print('R\\'\\' = \\n{}'.format(R3))"
      ],
      "metadata": {
        "colab": {
          "base_uri": "https://localhost:8080/"
        },
        "id": "j2gYDwyK_mHq",
        "outputId": "3a91a7ae-2334-485b-fe1c-e9bb3799d56b"
      },
      "execution_count": 13,
      "outputs": [
        {
          "output_type": "stream",
          "name": "stdout",
          "text": [
            "U00 = [1 2]\n",
            "U05 = [1 3]\n",
            "U13 = [0 2 3]\n",
            "U21 = [0 1 3]\n",
            "U25 = [1 3]\n",
            "U30 = [1 2]\n",
            "U32 = [0 1 2]\n",
            "U44 = []\n",
            "R'' = \n",
            "[[3.289 4.    3.    1.    2.    1.601]\n",
            " [5.    5.    4.    3.449 3.    3.   ]\n",
            " [4.    4.747 5.    3.    2.    2.638]\n",
            " [2.524 3.    2.384 2.    1.    1.   ]\n",
            " [2.    1.    2.    4.    2.4   3.   ]]\n"
          ]
        }
      ]
    }
  ]
}