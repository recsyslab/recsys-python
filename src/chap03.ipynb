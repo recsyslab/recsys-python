{
  "nbformat": 4,
  "nbformat_minor": 0,
  "metadata": {
    "colab": {
      "name": "chap03.ipynb",
      "provenance": [],
      "collapsed_sections": []
    },
    "kernelspec": {
      "name": "python3",
      "display_name": "Python 3"
    },
    "language_info": {
      "name": "python"
    }
  },
  "cells": [
    {
      "cell_type": "markdown",
      "source": [
        "# 第3章 類似度に基づく推薦"
      ],
      "metadata": {
        "id": "s3oR5Uhv0Q3-"
      }
    },
    {
      "cell_type": "markdown",
      "source": [
        "## 準備"
      ],
      "metadata": {
        "id": "fWWNpzne0VPi"
      }
    },
    {
      "cell_type": "code",
      "execution_count": 1,
      "metadata": {
        "id": "VZhvSMmL0BGL"
      },
      "outputs": [],
      "source": [
        "import pprint\n",
        "import numpy as np\n",
        "\n",
        "# 上位K件\n",
        "TOP_K = 3\n",
        "\n",
        "Du = np.array([\n",
        "               [5, 3, +1],\n",
        "               [6, 2, +1],\n",
        "               [4, 1, +1],\n",
        "               [8, 5, -1],\n",
        "               [2, 4, -1],\n",
        "               [3, 6, -1],\n",
        "               [7, 6, -1],\n",
        "               [4, 2, np.nan],\n",
        "               [5, 1, np.nan],\n",
        "               [8, 6, np.nan],\n",
        "               [3, 4, np.nan],\n",
        "               [4, 7, np.nan],\n",
        "               [4, 4, np.nan],\n",
        "])\n",
        "I = np.arange(Du.shape[0])\n",
        "x = Du[:,:-1]\n",
        "ru = Du[:,-1]\n",
        "\n",
        "Iu = I[~np.isnan(ru)]\n",
        "Iup = I[ru==+1]\n",
        "Iun = I[ru==-1]\n",
        "Iu_not = np.setdiff1d(I, Iu)"
      ]
    },
    {
      "cell_type": "markdown",
      "source": [
        "## ユーザプロファイル"
      ],
      "metadata": {
        "id": "UiQ-t4_c1YWO"
      }
    },
    {
      "cell_type": "markdown",
      "source": [
        "### 01 好きなアイテム集合に含まれるアイテムの特徴ベクトルの集合"
      ],
      "metadata": {
        "id": "HSZ3mLL71be7"
      }
    },
    {
      "cell_type": "code",
      "source": [
        "print('x[Iu+] = \\n{}'.format(x[Iup]))"
      ],
      "metadata": {
        "colab": {
          "base_uri": "https://localhost:8080/"
        },
        "id": "HlynJnpu1ghx",
        "outputId": "774c6fbe-ab45-4f13-eab5-e8508880b692"
      },
      "execution_count": 2,
      "outputs": [
        {
          "output_type": "stream",
          "name": "stdout",
          "text": [
            "x[Iu+] = \n",
            "[[5. 3.]\n",
            " [6. 2.]\n",
            " [4. 1.]]\n"
          ]
        }
      ]
    },
    {
      "cell_type": "code",
      "source": [
        "print('x[Iu+] = \\n{}'.format(np.array([x[i] for i in Iup])))"
      ],
      "metadata": {
        "colab": {
          "base_uri": "https://localhost:8080/"
        },
        "id": "x0jbbHf41vyl",
        "outputId": "7ca59d4a-dd86-405d-db60-a6fcf2cbca53"
      },
      "execution_count": 3,
      "outputs": [
        {
          "output_type": "stream",
          "name": "stdout",
          "text": [
            "x[Iu+] = \n",
            "[[5. 3.]\n",
            " [6. 2.]\n",
            " [4. 1.]]\n"
          ]
        }
      ]
    },
    {
      "cell_type": "markdown",
      "source": [
        "### 02 特徴ベクトルの総和"
      ],
      "metadata": {
        "id": "352_K2ZV162H"
      }
    },
    {
      "cell_type": "code",
      "source": [
        "print('sum(x[Iu+]) = {}'.format(np.sum(x[Iup], axis=0)))"
      ],
      "metadata": {
        "colab": {
          "base_uri": "https://localhost:8080/"
        },
        "id": "jCq-mqol18-u",
        "outputId": "30ba5d54-1014-46c5-ac3f-73695f8a3405"
      },
      "execution_count": 4,
      "outputs": [
        {
          "output_type": "stream",
          "name": "stdout",
          "text": [
            "sum(x[Iu+]) = [15.  6.]\n"
          ]
        }
      ]
    },
    {
      "cell_type": "code",
      "source": [
        "print('sum(x[Iu+]) = {}'.format(np.sum([x[i] for i in Iup], axis=0)))"
      ],
      "metadata": {
        "colab": {
          "base_uri": "https://localhost:8080/"
        },
        "id": "SBLlKE962Lm7",
        "outputId": "ff836c8e-ddf8-483a-b90b-d1f0fbd8c69a"
      },
      "execution_count": 5,
      "outputs": [
        {
          "output_type": "stream",
          "name": "stdout",
          "text": [
            "sum(x[Iu+]) = [15.  6.]\n"
          ]
        }
      ]
    },
    {
      "cell_type": "markdown",
      "source": [
        "### 03 ユーザプロファイル"
      ],
      "metadata": {
        "id": "XSj-Yh7w2Q7e"
      }
    },
    {
      "cell_type": "code",
      "source": [
        "pu = np.array((1 / Iup.size) * np.sum(x[Iup], axis=0))\n",
        "print('pu = {}'.format(pu))"
      ],
      "metadata": {
        "colab": {
          "base_uri": "https://localhost:8080/"
        },
        "id": "QRSX8_ad2Tk6",
        "outputId": "bb1b436e-082a-4021-b2cb-9f34214903ce"
      },
      "execution_count": 6,
      "outputs": [
        {
          "output_type": "stream",
          "name": "stdout",
          "text": [
            "pu = [5. 2.]\n"
          ]
        }
      ]
    },
    {
      "cell_type": "code",
      "source": [
        "pu = np.array((1 / Iup.size) * np.sum([x[i] for i in Iup], axis=0))\n",
        "print('pu = {}'.format(pu))"
      ],
      "metadata": {
        "colab": {
          "base_uri": "https://localhost:8080/"
        },
        "id": "lXk_A4BJ2Zgr",
        "outputId": "765e93a9-11dc-42cd-e41b-b19db0747b49"
      },
      "execution_count": 7,
      "outputs": [
        {
          "output_type": "stream",
          "name": "stdout",
          "text": [
            "pu = [5. 2.]\n"
          ]
        }
      ]
    },
    {
      "cell_type": "markdown",
      "source": [
        "## コサイン類似度"
      ],
      "metadata": {
        "id": "ML3xrs9Z2p6O"
      }
    },
    {
      "cell_type": "markdown",
      "source": [
        "### 04 ベクトルの内積\n",
        "### 05 ユーザプロファイルのノルム\n",
        "### 06 特徴ベクトルのノルム"
      ],
      "metadata": {
        "id": "K59K676y2sAZ"
      }
    },
    {
      "cell_type": "code",
      "source": [
        "def cos(pu, xi):\n",
        "    \"\"\"\n",
        "    コサイン類似度関数：ユーザプロファイルpuとアイテムiの特徴ベクトルxiのコサイン類似度を返す。\n",
        "\n",
        "    Parameters\n",
        "    ----------\n",
        "    pu : ndarray\n",
        "        ユーザuのユーザプロファイル\n",
        "    xi : ndarray\n",
        "        アイテムiの特徴ベクトル\n",
        "\n",
        "    Returns\n",
        "    -------\n",
        "    float\n",
        "        コサイン類似度\n",
        "    \"\"\"\n",
        "    # 04\n",
        "    num = pu@xi\n",
        "#    num = np.dot(pu, xi)\n",
        "#    d = pu.size\n",
        "#    num = np.sum([pu[k] * xi[k] for k in range(0, d)])\n",
        "#    num = np.sum(pu * xi)\n",
        "    print('num = {}'.format(num))\n",
        "    # 05\n",
        "    den_u = np.linalg.norm(pu)\n",
        "#    den_u = np.sqrt(pu@pu)\n",
        "#    den_u = np.sqrt(np.sum([pu[k]**2 for k in range(0, d)]))\n",
        "#    den_u = np.sqrt(np.sum(pu**2))\n",
        "    print('den_u = {:.3f}'.format(den_u))\n",
        "    # 06\n",
        "    den_i = np.linalg.norm(xi)\n",
        "#    den_i = np.sqrt(xi@xi)\n",
        "#    den_i = np.sqrt(np.sum([xi[k]**2 for k in range(0, d)]))\n",
        "#    den_i = np.sqrt(np.sum(xi**2))\n",
        "#    print('den_i = {:.3f}'.format(den_i))\n",
        "    print('den_i = {:.3f}'.format(den_i))\n",
        "\n",
        "    cosine = num / (den_u * den_i)\n",
        "    return cosine"
      ],
      "metadata": {
        "id": "_lSe_nH43TQX"
      },
      "execution_count": 8,
      "outputs": []
    },
    {
      "cell_type": "code",
      "source": [
        "u = 0\n",
        "i = 7\n",
        "print('cos(p{}, x{}) = {:.3f}'.format(u, i, cos(pu, x[i])))\n",
        "u = 0\n",
        "i = 11\n",
        "print('cos(p{}, x{}) = {:.3f}'.format(u, i, cos(pu, x[i])))"
      ],
      "metadata": {
        "id": "EEL0sPTC3ogn",
        "colab": {
          "base_uri": "https://localhost:8080/"
        },
        "outputId": "2c2653e6-8cd1-462e-b19c-6846aa630619"
      },
      "execution_count": 9,
      "outputs": [
        {
          "output_type": "stream",
          "name": "stdout",
          "text": [
            "num = 24.0\n",
            "den_u = 5.385\n",
            "den_i = 4.472\n",
            "cos(p0, x7) = 0.997\n",
            "num = 34.0\n",
            "den_u = 5.385\n",
            "den_i = 8.062\n",
            "cos(p0, x11) = 0.783\n"
          ]
        }
      ]
    },
    {
      "cell_type": "markdown",
      "source": [
        "## 推薦"
      ],
      "metadata": {
        "id": "Tx-qL07C5ht5"
      }
    },
    {
      "cell_type": "code",
      "source": [
        "def score(u, i):\n",
        "    \"\"\"\n",
        "    スコア関数：ユーザuのアイテムiに対するスコアを返す。\n",
        "\n",
        "    Parameters\n",
        "    ----------\n",
        "    u : int\n",
        "        ユーザuのID（ダミー）\n",
        "    i : int\n",
        "        アイテムiのID\n",
        "\n",
        "    Returns\n",
        "    -------\n",
        "    float\n",
        "        スコア\n",
        "    \"\"\"\n",
        "    return cos(pu, x[i])"
      ],
      "metadata": {
        "id": "cvK3OOFM5kEs"
      },
      "execution_count": 10,
      "outputs": []
    },
    {
      "cell_type": "markdown",
      "source": [
        "### 07 各アイテムに対するスコア\n",
        "### 08 推薦リスト"
      ],
      "metadata": {
        "id": "UrLNr8H76pmm"
      }
    },
    {
      "cell_type": "code",
      "source": [
        "def order(u, I):\n",
        "    \"\"\"\n",
        "    順序付け関数：アイテム集合Iにおいて、ユーザu向けの推薦リストを返す。\n",
        "\n",
        "    Parameters\n",
        "    ----------\n",
        "    u : int\n",
        "        ユーザuのID\n",
        "    I : ndarray\n",
        "        アイテム集合\n",
        "\n",
        "    Returns\n",
        "    -------\n",
        "    list\n",
        "        タプル(アイテムID: スコア)を要素にした推薦リスト\n",
        "    \"\"\"\n",
        "    # 07\n",
        "#    scores = {}\n",
        "#    for i in I:\n",
        "#        scores[i] = score(u, i)\n",
        "    scores = {i: score(u, i) for i in I}\n",
        "    print('scores = ')\n",
        "    pprint.pprint(scores)\n",
        "    # 08\n",
        "    rec_list = sorted(scores.items(), key=lambda x:x[1], reverse=True)[:TOP_K]\n",
        "    return rec_list"
      ],
      "metadata": {
        "id": "zgjYej8E6wlt"
      },
      "execution_count": 11,
      "outputs": []
    },
    {
      "cell_type": "code",
      "source": [
        "u = 0\n",
        "rec_list = order(u, Iu_not)\n",
        "print('rec_list = ')\n",
        "for i, scr in rec_list:\n",
        "    print('{}: {:.3f}'.format(i, scr))"
      ],
      "metadata": {
        "id": "fCA6a6Us64eV",
        "colab": {
          "base_uri": "https://localhost:8080/"
        },
        "outputId": "3b65cc2a-6bec-4cee-a9e3-7de3a0a7cfb6"
      },
      "execution_count": 12,
      "outputs": [
        {
          "output_type": "stream",
          "name": "stdout",
          "text": [
            "num = 24.0\n",
            "den_u = 5.385\n",
            "den_i = 4.472\n",
            "num = 27.0\n",
            "den_u = 5.385\n",
            "den_i = 5.099\n",
            "num = 52.0\n",
            "den_u = 5.385\n",
            "den_i = 10.000\n",
            "num = 23.0\n",
            "den_u = 5.385\n",
            "den_i = 5.000\n",
            "num = 34.0\n",
            "den_u = 5.385\n",
            "den_i = 8.062\n",
            "num = 28.0\n",
            "den_u = 5.385\n",
            "den_i = 5.657\n",
            "scores = \n",
            "{7: 0.9965457582448796,\n",
            " 8: 0.9832820049844603,\n",
            " 9: 0.9656157585206697,\n",
            " 10: 0.8541985556144386,\n",
            " 11: 0.783110847498294,\n",
            " 12: 0.9191450300180578}\n",
            "rec_list = \n",
            "7: 0.997\n",
            "8: 0.983\n",
            "9: 0.966\n"
          ]
        }
      ]
    }
  ]
}