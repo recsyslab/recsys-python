{
  "nbformat": 4,
  "nbformat_minor": 0,
  "metadata": {
    "colab": {
      "name": "chap08.ipynb",
      "provenance": [],
      "collapsed_sections": []
    },
    "kernelspec": {
      "name": "python3",
      "display_name": "Python 3"
    },
    "language_info": {
      "name": "python"
    }
  },
  "cells": [
    {
      "cell_type": "markdown",
      "source": [
        "# 第8章 評価値行列の次元削減"
      ],
      "metadata": {
        "id": "ZrPITsu7sjQ5"
      }
    },
    {
      "cell_type": "markdown",
      "source": [
        "## 準備"
      ],
      "metadata": {
        "id": "f8GO15U9sk4u"
      }
    },
    {
      "cell_type": "code",
      "execution_count": 1,
      "metadata": {
        "id": "N0jpJFCej7md"
      },
      "outputs": [],
      "source": [
        "import numpy as np\n",
        "import numpy.linalg as LA\n",
        "np.set_printoptions(precision=3)\n",
        "\n",
        "# 縮約後の次元数\n",
        "DIM = 2\n",
        "\n",
        "R = np.array([\n",
        "              [np.nan, 4,      3,      1,      2,      np.nan],\n",
        "              [5,      5,      4,      np.nan, 3,      3     ],\n",
        "              [4,      np.nan, 5,      3,      2,      np.nan],\n",
        "              [np.nan, 3,      np.nan, 2,      1,      1     ],\n",
        "              [2,      1,      2,      4,      np.nan, 3     ],\n",
        "])\n",
        "U = np.arange(R.shape[0])\n",
        "I = np.arange(R.shape[1])\n",
        "Ui = [U[~np.isnan(R)[:,i]] for i in I]\n",
        "Iu = [I[~np.isnan(R)[u,:]] for u in U]\n",
        "ru_mean = np.nanmean(R, axis=1)\n",
        "R2 = R - ru_mean.reshape((ru_mean.size, 1))"
      ]
    },
    {
      "cell_type": "markdown",
      "source": [
        "## 分散共分散行列"
      ],
      "metadata": {
        "id": "crQjxjR7sqX6"
      }
    },
    {
      "cell_type": "markdown",
      "source": [
        "### 01 各アイテムに対して与えられた平均中心化評価値の平均値"
      ],
      "metadata": {
        "id": "bFNdqGcdst6M"
      }
    },
    {
      "cell_type": "code",
      "source": [
        "ri2_mean = np.nanmean(R2, axis=0)\n",
        "print('ri2_mean = {}'.format(ri2_mean))"
      ],
      "metadata": {
        "colab": {
          "base_uri": "https://localhost:8080/"
        },
        "id": "pH4PdSdms37L",
        "outputId": "5eb76e23-1ad6-4ebb-ac4e-417aeb8f498e"
      },
      "execution_count": 2,
      "outputs": [
        {
          "output_type": "stream",
          "name": "stdout",
          "text": [
            "ri2_mean = [ 0.367  0.588  0.4   -0.037 -0.938 -0.383]\n"
          ]
        }
      ]
    },
    {
      "cell_type": "code",
      "source": [
        "ri2_mean = np.array([(1 / Ui[i].size) * np.sum([R2[u,i] for u in Ui[i]]) for i in I])\n",
        "print('ri2_mean = {}'.format(ri2_mean))"
      ],
      "metadata": {
        "colab": {
          "base_uri": "https://localhost:8080/"
        },
        "id": "1eV6o3k535M4",
        "outputId": "982dad92-2f83-41d6-8b35-d646606ff5b0"
      },
      "execution_count": 3,
      "outputs": [
        {
          "output_type": "stream",
          "name": "stdout",
          "text": [
            "ri2_mean = [ 0.367  0.588  0.4   -0.037 -0.938 -0.383]\n"
          ]
        }
      ]
    },
    {
      "cell_type": "markdown",
      "source": [
        "### 02 各アイテムの平均中心化評価値の分散"
      ],
      "metadata": {
        "id": "hJwPNOXys7AJ"
      }
    },
    {
      "cell_type": "code",
      "source": [
        "s2 = np.nanvar(R2, axis=0)\n",
        "print('s2 = {}'.format(s2))"
      ],
      "metadata": {
        "colab": {
          "base_uri": "https://localhost:8080/"
        },
        "id": "oxhoU-VQs_Tu",
        "outputId": "2a97b020-f14d-43c3-a4f5-624279cdfc9c"
      },
      "execution_count": 4,
      "outputs": [
        {
          "output_type": "stream",
          "name": "stdout",
          "text": [
            "s2 = [0.336 1.348 0.505 1.279 0.137 0.494]\n"
          ]
        }
      ]
    },
    {
      "cell_type": "code",
      "source": [
        "s2 = np.array([(1 / Ui[i].size) * np.sum([(R2[u,i] - ri2_mean[i])**2 for u in Ui[i]]) for i in I])\n",
        "print('s2 = {}'.format(s2))"
      ],
      "metadata": {
        "colab": {
          "base_uri": "https://localhost:8080/"
        },
        "id": "nWfHEVgcs__0",
        "outputId": "18a0f852-e52f-4bc5-ca15-1027a8c1c976"
      },
      "execution_count": 5,
      "outputs": [
        {
          "output_type": "stream",
          "name": "stdout",
          "text": [
            "s2 = [0.336 1.348 0.505 1.279 0.137 0.494]\n"
          ]
        }
      ]
    },
    {
      "cell_type": "code",
      "source": [
        "s2 = np.array([(1 / Ui[i].size) * np.nansum((R2[:,i] - ri2_mean[i])**2) for i in I])\n",
        "print('s2 = {}'.format(s2))"
      ],
      "metadata": {
        "colab": {
          "base_uri": "https://localhost:8080/"
        },
        "id": "wFD0SAuks8cG",
        "outputId": "ceb118d6-9234-4f4a-dda9-b9457737e5a4"
      },
      "execution_count": 6,
      "outputs": [
        {
          "output_type": "stream",
          "name": "stdout",
          "text": [
            "s2 = [0.336 1.348 0.505 1.279 0.137 0.494]\n"
          ]
        }
      ]
    },
    {
      "cell_type": "markdown",
      "source": [
        "### 03 アイテムiとアイテムjの平均中心化評価値の共分散"
      ],
      "metadata": {
        "id": "X9S-9sxhtMvH"
      }
    },
    {
      "cell_type": "code",
      "source": [
        "i = 0\n",
        "j = 1\n",
        "Uij = np.intersect1d(Ui[i], Ui[j])\n",
        "sij = (1 / Uij.size) * np.sum([(R2[u,i] - ri2_mean[i]) * (R2[u,j] - ri2_mean[j]) for u in Uij]) if Uij.size > 0 else 0\n",
        "print('s{}{} = {:.3f}'.format(i, j, sij))"
      ],
      "metadata": {
        "colab": {
          "base_uri": "https://localhost:8080/"
        },
        "id": "72s9HyKDtN_c",
        "outputId": "18f45366-b3cc-4226-9595-dc57e3a3d591"
      },
      "execution_count": 7,
      "outputs": [
        {
          "output_type": "stream",
          "name": "stdout",
          "text": [
            "s01 = 0.892\n"
          ]
        }
      ]
    },
    {
      "cell_type": "markdown",
      "source": [
        "### 04 分散共分散行列"
      ],
      "metadata": {
        "id": "8yc3WDQqtWtM"
      }
    },
    {
      "cell_type": "code",
      "source": [
        "S = np.zeros((I.size, I.size))\n",
        "for i in I:\n",
        "    for j in I:\n",
        "        Uij = np.intersect1d(Ui[i], Ui[j])\n",
        "        S[i,j] = (1 / Uij.size) * np.sum([(R2[u,i] - ri2_mean[i]) * (R2[u,j] - ri2_mean[j]) for u in Uij]) if Uij.size > 0 else 0\n",
        "print('S = \\n{}'.format(S))"
      ],
      "metadata": {
        "colab": {
          "base_uri": "https://localhost:8080/"
        },
        "id": "HHoDRj85tXxZ",
        "outputId": "1b5d114e-f290-4cb6-bc1a-d5bab832b322"
      },
      "execution_count": 8,
      "outputs": [
        {
          "output_type": "stream",
          "name": "stdout",
          "text": [
            "S = \n",
            "[[ 0.336  0.892  0.169 -0.659 -0.057 -0.572]\n",
            " [ 0.892  1.348  0.505 -1.466  0.166 -0.817]\n",
            " [ 0.169  0.505  0.505 -0.655 -0.183 -0.27 ]\n",
            " [-0.659 -1.466 -0.655  1.279 -0.109  0.752]\n",
            " [-0.057  0.166 -0.183 -0.109  0.137 -0.015]\n",
            " [-0.572 -0.817 -0.27   0.752 -0.015  0.494]]\n"
          ]
        }
      ]
    },
    {
      "cell_type": "markdown",
      "source": [
        "## 固有値・固有ベクトル"
      ],
      "metadata": {
        "id": "pgBzzrbLtgpC"
      }
    },
    {
      "cell_type": "markdown",
      "source": [
        "### 05 固有値・固有ベクトル"
      ],
      "metadata": {
        "id": "b_RQm6N1tjHH"
      }
    },
    {
      "cell_type": "code",
      "source": [
        "lmd, v = LA.eig(S)\n",
        "print('λ = {}'.format(lmd))\n",
        "print('v = \\n{}'.format(v))"
      ],
      "metadata": {
        "colab": {
          "base_uri": "https://localhost:8080/"
        },
        "id": "PrvtLYWQtl4G",
        "outputId": "eb214b04-ed65-42ca-a7e7-4ddfdaf68a80"
      },
      "execution_count": 9,
      "outputs": [
        {
          "output_type": "stream",
          "name": "stdout",
          "text": [
            "λ = [ 3.909  0.48   0.233 -0.315 -0.049 -0.16 ]\n",
            "v = \n",
            "[[ 0.327  0.228  0.484 -0.685  0.279 -0.245]\n",
            " [ 0.609  0.211 -0.099  0.565  0.371 -0.344]\n",
            " [ 0.245 -0.806 -0.097 -0.134 -0.202 -0.472]\n",
            " [-0.583  0.126  0.374  0.258 -0.019 -0.661]\n",
            " [ 0.028  0.462 -0.624 -0.294 -0.394 -0.393]\n",
            " [-0.348 -0.157 -0.465 -0.204  0.767 -0.087]]\n"
          ]
        }
      ]
    },
    {
      "cell_type": "markdown",
      "source": [
        "### 06 第d主成分までの固有ベクトル"
      ],
      "metadata": {
        "id": "1GdM4nSmt7Gn"
      }
    },
    {
      "cell_type": "code",
      "source": [
        "indices = np.argsort(lmd)[::-1]\n",
        "v = v[:, indices]\n",
        "V = v[:, :DIM]\n",
        "print('V = \\n{}'.format(V))"
      ],
      "metadata": {
        "colab": {
          "base_uri": "https://localhost:8080/"
        },
        "id": "mDUcZqgJt9OQ",
        "outputId": "8275888d-f989-4fbd-fc2b-6d58e6fe5f65"
      },
      "execution_count": 10,
      "outputs": [
        {
          "output_type": "stream",
          "name": "stdout",
          "text": [
            "V = \n",
            "[[ 0.327  0.228]\n",
            " [ 0.609  0.211]\n",
            " [ 0.245 -0.806]\n",
            " [-0.583  0.126]\n",
            " [ 0.028  0.462]\n",
            " [-0.348 -0.157]]\n"
          ]
        }
      ]
    },
    {
      "cell_type": "markdown",
      "source": [
        "## 主成分得点"
      ],
      "metadata": {
        "id": "vmKTiXuOuHqA"
      }
    },
    {
      "cell_type": "markdown",
      "source": [
        "### 07 ユーザuの第k主成分得点"
      ],
      "metadata": {
        "id": "ocxpg_g8uJgs"
      }
    },
    {
      "cell_type": "code",
      "source": [
        "u = 0\n",
        "k = 0\n",
        "puk = np.sum([R2[u,i] * V[i,k] for i in Iu[u]]) / Iu[u].size\n",
        "print('p{}{} = {:.3f}'.format(u, k, puk))"
      ],
      "metadata": {
        "colab": {
          "base_uri": "https://localhost:8080/"
        },
        "id": "bxJKE8ejuLhF",
        "outputId": "fa01e66f-05a2-48b0-ff46-67040bf6d96d"
      },
      "execution_count": 11,
      "outputs": [
        {
          "output_type": "stream",
          "name": "stdout",
          "text": [
            "p00 = 0.474\n"
          ]
        }
      ]
    },
    {
      "cell_type": "markdown",
      "source": [
        "### 08 潜在因子行列"
      ],
      "metadata": {
        "id": "T3zYNUfBuPUn"
      }
    },
    {
      "cell_type": "code",
      "source": [
        "P = np.zeros((U.size, DIM))\n",
        "for u in U:\n",
        "    for k in range(0, DIM):\n",
        "        P[u,k] = np.sum([R2[u,i] * V[i,k] for i in Iu[u]]) / Iu[u].size\n",
        "print('P = \\n{}'.format(P))"
      ],
      "metadata": {
        "colab": {
          "base_uri": "https://localhost:8080/"
        },
        "id": "QL9Bo4wquQf8",
        "outputId": "9d84de93-7e27-400e-fc81-dea18ca1da3b"
      },
      "execution_count": 12,
      "outputs": [
        {
          "output_type": "stream",
          "name": "stdout",
          "text": [
            "P = \n",
            "[[ 0.474 -0.127]\n",
            " [ 0.251  0.027]\n",
            " [ 0.195 -0.463]\n",
            " [ 0.214  0.017]\n",
            " [-0.445  0.009]]\n"
          ]
        }
      ]
    },
    {
      "cell_type": "code",
      "source": [
        "P = np.array([[np.sum([R2[u,i] * V[i,k] for i in Iu[u]]) / Iu[u].size for k in range(0, DIM)] for u in U])\n",
        "print('P = \\n{}'.format(P))"
      ],
      "metadata": {
        "colab": {
          "base_uri": "https://localhost:8080/"
        },
        "id": "FlLjYODpuXSh",
        "outputId": "fe9c4350-94af-4a52-9f6e-0e0e7afb5d23"
      },
      "execution_count": 13,
      "outputs": [
        {
          "output_type": "stream",
          "name": "stdout",
          "text": [
            "P = \n",
            "[[ 0.474 -0.127]\n",
            " [ 0.251  0.027]\n",
            " [ 0.195 -0.463]\n",
            " [ 0.214  0.017]\n",
            " [-0.445  0.009]]\n"
          ]
        }
      ]
    }
  ]
}