{
  "nbformat": 4,
  "nbformat_minor": 0,
  "metadata": {
    "colab": {
      "name": "chap04.ipynb",
      "provenance": [],
      "collapsed_sections": []
    },
    "kernelspec": {
      "name": "python3",
      "display_name": "Python 3"
    },
    "language_info": {
      "name": "python"
    }
  },
  "cells": [
    {
      "cell_type": "markdown",
      "source": [
        "# k近傍法"
      ],
      "metadata": {
        "id": "o6Xr-DOU9Tx4"
      }
    },
    {
      "cell_type": "markdown",
      "source": [
        "## 準備"
      ],
      "metadata": {
        "id": "ciYPusK39W7J"
      }
    },
    {
      "cell_type": "code",
      "source": [
        "import pprint\n",
        "import numpy as np\n",
        "np.set_printoptions(precision=3)\n",
        "\n",
        "# 上位K件\n",
        "TOP_K = 3\n",
        "# 近傍アイテム数\n",
        "K_ITEMS = 3\n",
        "# しきい値\n",
        "THETA = 0\n",
        "\n",
        "Du = np.array([\n",
        "               [5, 3, +1],\n",
        "               [6, 2, +1],\n",
        "               [4, 1, +1],\n",
        "               [8, 5, -1],\n",
        "               [2, 4, -1],\n",
        "               [3, 6, -1],\n",
        "               [7, 6, -1],\n",
        "               [4, 2, np.nan],\n",
        "               [5, 1, np.nan],\n",
        "               [8, 6, np.nan],\n",
        "               [3, 4, np.nan],\n",
        "               [4, 7, np.nan],\n",
        "               [4, 4, np.nan],\n",
        "])\n",
        "I = np.arange(Du.shape[0])\n",
        "x = Du[:,:-1]\n",
        "ru = Du[:,-1]\n",
        "\n",
        "Iu = I[~np.isnan(ru)]\n",
        "Iup = I[ru==+1]\n",
        "Iun = I[ru==-1]\n",
        "Iu_not = np.setdiff1d(I, Iu)"
      ],
      "metadata": {
        "id": "0amqC9eA9WG9"
      },
      "execution_count": 1,
      "outputs": []
    },
    {
      "cell_type": "markdown",
      "source": [
        "## 距離"
      ],
      "metadata": {
        "id": "53swdFkm987M"
      }
    },
    {
      "cell_type": "markdown",
      "source": [
        "### 01 ユークリッド距離"
      ],
      "metadata": {
        "id": "ZLRyPa4j-DJ3"
      }
    },
    {
      "cell_type": "code",
      "source": [
        "def dist(xi, xj):\n",
        "    \"\"\"\n",
        "    距離関数：アイテムiの特徴ベクトルxiとアイテムjの特徴ベクトルxjのユークリッド距離を返す。\n",
        "\n",
        "    Parameters\n",
        "    ----------\n",
        "    xi : ndarray\n",
        "        アイテムiの特徴ベクトル\n",
        "    xj : ndarray\n",
        "        アイテムjの特徴ベクトル\n",
        "\n",
        "    Returns\n",
        "    -------\n",
        "    float\n",
        "        ユークリッド距離\n",
        "    \"\"\"\n",
        "    # 01\n",
        "    d = xi.size\n",
        "    distance = np.sqrt(np.sum([(xj[k] - xi[k])**2 for k in range(0, d)]))\n",
        "#    distance = np.sqrt(np.sum((xj - xi)**2))\n",
        "    return distance"
      ],
      "metadata": {
        "id": "ewJUk-H6-Fkd"
      },
      "execution_count": 2,
      "outputs": []
    },
    {
      "cell_type": "code",
      "source": [
        "i = 7\n",
        "j = 2\n",
        "print('dist(x{}, x{}) = {:.3f}'.format(i, j, dist(x[i], x[j])))\n",
        "i = 7\n",
        "j = 3\n",
        "print('dist(x{}, x{}) = {:.3f}'.format(i, j, dist(x[i], x[j])))"
      ],
      "metadata": {
        "colab": {
          "base_uri": "https://localhost:8080/"
        },
        "id": "Jox84CR0-Ib-",
        "outputId": "d339be38-023f-41f1-bf54-f898d9d78d3a"
      },
      "execution_count": 3,
      "outputs": [
        {
          "output_type": "stream",
          "name": "stdout",
          "text": [
            "dist(x7, x2) = 1.000\n",
            "dist(x7, x3) = 5.000\n"
          ]
        }
      ]
    },
    {
      "cell_type": "markdown",
      "source": [
        "## 近傍アイテム"
      ],
      "metadata": {
        "id": "ppYoTT4y-gDg"
      }
    },
    {
      "cell_type": "markdown",
      "source": [
        "### 02 アイテム-アイテム距離行列"
      ],
      "metadata": {
        "id": "XVGoF0mg-hsI"
      }
    },
    {
      "cell_type": "code",
      "source": [
        "D = np.zeros((I.size, I.size))\n",
        "for i in I:\n",
        "    for j in I:\n",
        "        D[i,j] = dist(x[i], x[j])\n",
        "print('D = \\n{}'.format(D[np.ix_(Iu_not,Iu)]))"
      ],
      "metadata": {
        "colab": {
          "base_uri": "https://localhost:8080/"
        },
        "id": "Fh7FA3rg-xZu",
        "outputId": "88b75c13-2179-46bd-aa12-09adae4e3713"
      },
      "execution_count": 4,
      "outputs": [
        {
          "output_type": "stream",
          "name": "stdout",
          "text": [
            "D = \n",
            "[[1.414 2.    1.    5.    2.828 4.123 5.   ]\n",
            " [2.    1.414 1.    5.    4.243 5.385 5.385]\n",
            " [4.243 4.472 6.403 1.    6.325 5.    1.   ]\n",
            " [2.236 3.606 3.162 5.099 1.    2.    4.472]\n",
            " [4.123 5.385 6.    4.472 3.606 1.414 3.162]\n",
            " [1.414 2.828 3.    4.123 2.    2.236 3.606]]\n"
          ]
        }
      ]
    },
    {
      "cell_type": "code",
      "source": [
        "D = np.array([[dist(x[i], x[j]) for j in I] for i in I])\n",
        "print('D = \\n{}'.format(D[np.ix_(Iu_not,Iu)]))"
      ],
      "metadata": {
        "colab": {
          "base_uri": "https://localhost:8080/"
        },
        "id": "liKF3eit-6AR",
        "outputId": "f6321125-8f7d-4335-f5b8-89c30e9c5264"
      },
      "execution_count": 5,
      "outputs": [
        {
          "output_type": "stream",
          "name": "stdout",
          "text": [
            "D = \n",
            "[[1.414 2.    1.    5.    2.828 4.123 5.   ]\n",
            " [2.    1.414 1.    5.    4.243 5.385 5.385]\n",
            " [4.243 4.472 6.403 1.    6.325 5.    1.   ]\n",
            " [2.236 3.606 3.162 5.099 1.    2.    4.472]\n",
            " [4.123 5.385 6.    4.472 3.606 1.414 3.162]\n",
            " [1.414 2.828 3.    4.123 2.    2.236 3.606]]\n"
          ]
        }
      ]
    },
    {
      "cell_type": "markdown",
      "source": [
        "### 03 距離の昇順に並べ替えたインデックスの配列"
      ],
      "metadata": {
        "id": "uhSCPC0d_cd5"
      }
    },
    {
      "cell_type": "code",
      "source": [
        "Ii = Iu[np.argsort(D[:,Iu])]\n",
        "print('Ii = \\n{}'.format(Ii))"
      ],
      "metadata": {
        "colab": {
          "base_uri": "https://localhost:8080/"
        },
        "id": "lojfzhE__dac",
        "outputId": "4287614d-6c22-4e1c-e2ec-aac1b99293ab"
      },
      "execution_count": 6,
      "outputs": [
        {
          "output_type": "stream",
          "name": "stdout",
          "text": [
            "Ii = \n",
            "[[0 1 2 4 3 5 6]\n",
            " [1 0 2 3 6 4 5]\n",
            " [2 0 1 4 5 3 6]\n",
            " [3 6 0 1 5 2 4]\n",
            " [4 5 0 2 1 6 3]\n",
            " [5 4 0 6 1 2 3]\n",
            " [6 3 0 5 1 4 2]\n",
            " [2 0 1 4 5 3 6]\n",
            " [2 1 0 4 3 5 6]\n",
            " [3 6 0 1 5 4 2]\n",
            " [4 5 0 2 1 6 3]\n",
            " [5 6 4 0 3 1 2]\n",
            " [0 4 5 1 2 6 3]]\n"
          ]
        }
      ]
    },
    {
      "cell_type": "markdown",
      "source": [
        "### 04 近傍k件のアイテムのインデックス配列"
      ],
      "metadata": {
        "id": "9LwK49UTAdxY"
      }
    },
    {
      "cell_type": "code",
      "source": [
        "Ii = Ii[:,:K_ITEMS]\n",
        "print('Ii = \\n{}'.format(Ii))"
      ],
      "metadata": {
        "colab": {
          "base_uri": "https://localhost:8080/"
        },
        "id": "pjn-apFdA_v3",
        "outputId": "63f51869-b670-44ad-c599-34eebb966b2a"
      },
      "execution_count": 7,
      "outputs": [
        {
          "output_type": "stream",
          "name": "stdout",
          "text": [
            "Ii = \n",
            "[[0 1 2]\n",
            " [1 0 2]\n",
            " [2 0 1]\n",
            " [3 6 0]\n",
            " [4 5 0]\n",
            " [5 4 0]\n",
            " [6 3 0]\n",
            " [2 0 1]\n",
            " [2 1 0]\n",
            " [3 6 0]\n",
            " [4 5 0]\n",
            " [5 6 4]\n",
            " [0 4 5]]\n"
          ]
        }
      ]
    },
    {
      "cell_type": "markdown",
      "source": [
        "### 05 各対象アイテムの近傍アイテム集合"
      ],
      "metadata": {
        "id": "azNtOMeFBKOw"
      }
    },
    {
      "cell_type": "code",
      "source": [
        "Ii = {i: Ii[i] for i in Iu_not}\n",
        "print('Ii = ')\n",
        "pprint.pprint(Ii)"
      ],
      "metadata": {
        "colab": {
          "base_uri": "https://localhost:8080/"
        },
        "id": "4SQst6ntBV9v",
        "outputId": "06b4e15c-3165-4105-db61-40a1cbc90316"
      },
      "execution_count": 8,
      "outputs": [
        {
          "output_type": "stream",
          "name": "stdout",
          "text": [
            "Ii = \n",
            "{7: array([2, 0, 1]),\n",
            " 8: array([2, 1, 0]),\n",
            " 9: array([3, 6, 0]),\n",
            " 10: array([4, 5, 0]),\n",
            " 11: array([5, 6, 4]),\n",
            " 12: array([0, 4, 5])}\n"
          ]
        }
      ]
    },
    {
      "cell_type": "markdown",
      "source": [
        "## 嗜好予測（多数決方式）"
      ],
      "metadata": {
        "id": "7V1XhL7_BgUu"
      }
    },
    {
      "cell_type": "markdown",
      "source": [
        "### 06 近傍アイテム集合のうち「好き」と評価したアイテム集合\n",
        "### 07 近傍アイテム集合のうち「嫌い」と評価したアイテム集合\n",
        "### 08 多数決方式による予測評価値"
      ],
      "metadata": {
        "id": "vozD43zJB1dp"
      }
    },
    {
      "cell_type": "code",
      "source": [
        "def predict1(u, i):\n",
        "    \"\"\"\n",
        "    予測関数（多数決方式）：多数決方式によりユーザuのアイテムiに対する予測評価値を返す。\n",
        "\n",
        "    Parameters\n",
        "    ----------\n",
        "    u : int\n",
        "        ユーザuのID（ダミー）\n",
        "    i : int\n",
        "        アイテムiのID\n",
        "\n",
        "    Returns\n",
        "    -------\n",
        "    float\n",
        "        予測評価値\n",
        "    \"\"\"\n",
        "    # 06\n",
        "    Iip = Ii[i][np.isin(Ii[i], Iup)]\n",
        "    print('I{}+ = {}'.format(i, Iip))\n",
        "    # 07\n",
        "    Iin = Ii[i][np.isin(Ii[i], Iun)]\n",
        "    print('I{}- = {}'.format(i, Iin))\n",
        "\n",
        "    # 08\n",
        "    rui = 0\n",
        "    if Iip.size > Iin.size:\n",
        "        rui = 1\n",
        "    elif Iip.size < Iin.size:\n",
        "        rui = -1\n",
        "    return rui"
      ],
      "metadata": {
        "id": "kbF6sZVzBoAH"
      },
      "execution_count": 9,
      "outputs": []
    },
    {
      "cell_type": "code",
      "source": [
        "u = 0\n",
        "i = 7\n",
        "print('predict1({}, {}) = {:.3f}'.format(u, i, predict1(u, i)))\n",
        "u = 0\n",
        "i = 9\n",
        "print('predict1({}, {}) = {:.3f}'.format(u, i, predict1(u, i)))"
      ],
      "metadata": {
        "colab": {
          "base_uri": "https://localhost:8080/"
        },
        "id": "5iuJKXAhB8fx",
        "outputId": "8e2ac93f-ae04-4fa9-8592-3a60d70653e1"
      },
      "execution_count": 10,
      "outputs": [
        {
          "output_type": "stream",
          "name": "stdout",
          "text": [
            "I7+ = [2 0 1]\n",
            "I7- = []\n",
            "predict1(0, 7) = 1.000\n",
            "I9+ = [0]\n",
            "I9- = [3 6]\n",
            "predict1(0, 9) = -1.000\n"
          ]
        }
      ]
    },
    {
      "cell_type": "markdown",
      "source": [
        "## 嗜好予測（平均方式）"
      ],
      "metadata": {
        "id": "inl0jWLjCqJn"
      }
    },
    {
      "cell_type": "markdown",
      "source": [
        "### 09 平均方式による予測評価値"
      ],
      "metadata": {
        "id": "ltSo77fWCsku"
      }
    },
    {
      "cell_type": "code",
      "source": [
        "def predict2(u, i):\n",
        "    \"\"\"\n",
        "    予測関数（平均方式）：平均方式によりユーザuのアイテムiに対する評価値を予測する。\n",
        "\n",
        "    Parameters\n",
        "    ----------\n",
        "    u : int\n",
        "        ユーザuのID（ダミー）\n",
        "    i : int\n",
        "        アイテムiのID\n",
        "\n",
        "    Returns\n",
        "    -------\n",
        "    float\n",
        "        予測評価値\n",
        "    \"\"\"\n",
        "    # 09\n",
        "    rui = (1 / K_ITEMS) * np.sum([ru[j] for j in Ii[i]])\n",
        "    return rui"
      ],
      "metadata": {
        "id": "HOFkFLm-Cufe"
      },
      "execution_count": 11,
      "outputs": []
    },
    {
      "cell_type": "code",
      "source": [
        "u = 0\n",
        "i = 7\n",
        "print('predict2({}, {}) = {:.3f}'.format(u, i, predict2(u, i)))\n",
        "u = 0\n",
        "i = 9\n",
        "print('predict2({}, {}) = {:.3f}'.format(u, i, predict2(u, i)))"
      ],
      "metadata": {
        "colab": {
          "base_uri": "https://localhost:8080/"
        },
        "id": "QFixLGoCDA_L",
        "outputId": "1cc08930-d7d8-4b71-8e52-2a26fcb71b93"
      },
      "execution_count": 12,
      "outputs": [
        {
          "output_type": "stream",
          "name": "stdout",
          "text": [
            "predict2(0, 7) = 1.000\n",
            "predict2(0, 9) = -0.333\n"
          ]
        }
      ]
    },
    {
      "cell_type": "markdown",
      "source": [
        "## 推薦"
      ],
      "metadata": {
        "id": "EUMBsoRCDZ0F"
      }
    },
    {
      "cell_type": "code",
      "source": [
        "def score(u, i):\n",
        "    \"\"\"\n",
        "    スコア関数：ユーザuのアイテムiに対するスコアを返す。\n",
        "\n",
        "    Parameters\n",
        "    ----------\n",
        "    u : int\n",
        "        ユーザuのID\n",
        "    i : int\n",
        "        アイテムiのID\n",
        "\n",
        "    Returns\n",
        "    -------\n",
        "    float\n",
        "        スコア\n",
        "    \"\"\"\n",
        "    return predict2(u, i)"
      ],
      "metadata": {
        "id": "P932Uv36DdVl"
      },
      "execution_count": 13,
      "outputs": []
    },
    {
      "cell_type": "markdown",
      "source": [
        "### 10 推薦リスト"
      ],
      "metadata": {
        "id": "otlhHVNRDcEQ"
      }
    },
    {
      "cell_type": "code",
      "source": [
        "def order(u, I):\n",
        "    \"\"\"\n",
        "    順序付け関数：アイテム集合Iにおいて、ユーザu向けの推薦リストを返す。\n",
        "\n",
        "    Parameters\n",
        "    ----------\n",
        "    u : int\n",
        "        ユーザuのID\n",
        "    I : ndarray\n",
        "        アイテム集合\n",
        "\n",
        "    Returns\n",
        "    -------\n",
        "    list\n",
        "        タプル(アイテムID: スコア)を要素にした推薦リスト\n",
        "    \"\"\"\n",
        "    scores = {i: score(u, i) for i in I}\n",
        "    # 10\n",
        "    scores = {i:scr for i,scr in scores.items() if scr >= THETA}\n",
        "    rec_list = sorted(scores.items(), key=lambda x:x[1], reverse=True)[:TOP_K]\n",
        "    return rec_list"
      ],
      "metadata": {
        "id": "fcHRMV6WDkJ-"
      },
      "execution_count": 14,
      "outputs": []
    },
    {
      "cell_type": "code",
      "source": [
        "u = 0\n",
        "rec_list = order(u, Iu_not)\n",
        "print('rec_list = ')\n",
        "for i, scr in rec_list:\n",
        "    print('{}: {:.3f}'.format(i, scr))"
      ],
      "metadata": {
        "colab": {
          "base_uri": "https://localhost:8080/"
        },
        "id": "4j1nnC06Dpxs",
        "outputId": "2b788580-012e-42a1-9165-f672bd52f0e1"
      },
      "execution_count": 15,
      "outputs": [
        {
          "output_type": "stream",
          "name": "stdout",
          "text": [
            "rec_list = \n",
            "7: 1.000\n",
            "8: 1.000\n"
          ]
        }
      ]
    }
  ]
}
